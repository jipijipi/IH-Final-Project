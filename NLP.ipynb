{
 "cells": [
  {
   "cell_type": "code",
   "execution_count": null,
   "metadata": {},
   "outputs": [],
   "source": [
    "import pandas as pd\n",
    "from transformers import DistilBertTokenizer, DistilBertForSequenceClassification\n",
    "import torch\n",
    "import numpy as np\n"
   ]
  },
  {
   "cell_type": "code",
   "execution_count": null,
   "metadata": {},
   "outputs": [],
   "source": [
    "# Prepare the input data\n",
    "df = pd.read_csv('data/paintings_with_filenames.csv') \n",
    "df['full_description'] = df['title'] + ' ' + df['depicts']+ ' ' + df['wga_description']+ ' ' + df['article_text']\n",
    "# Filter out NaN values from 'full_description'\n",
    "df = df.dropna(subset=['full_description'])\n",
    "df.head()\n"
   ]
  },
  {
   "cell_type": "code",
   "execution_count": null,
   "metadata": {},
   "outputs": [],
   "source": [
    "\n",
    "# Define the classes\n",
    "classes = ['wine', 'beverage', 'meat', 'fruit', 'vegetable', 'bread', 'dairy', 'dessert', 'seafood']\n",
    "\n",
    "# Load TinyBERT model and tokenizer\n",
    "model_name = 'huawei-noah/TinyBERT_General_4L_312D'\n",
    "tokenizer = BertTokenizer.from_pretrained(model_name)\n",
    "model = BertForSequenceClassification.from_pretrained(\n",
    "    model_name, num_labels=len(classes)\n",
    ")\n",
    "\n",
    "# Set device to MPS if available\n",
    "device = torch.device(\"mps\") if torch.backends.mps.is_available() else torch.device(\"cpu\")\n",
    "model.to(device)\n",
    "\n",
    "# Batch tokenize the text\n",
    "encoded_dict = tokenizer.batch_encode_plus(\n",
    "    df['full_description'].tolist(),\n",
    "    add_special_tokens=True,\n",
    "    max_length=512,\n",
    "    padding='max_length',\n",
    "    truncation=True,\n",
    "    return_attention_mask=True,\n",
    "    return_tensors='pt'\n",
    ")\n",
    "\n",
    "input_ids = encoded_dict['input_ids']\n",
    "attention_masks = encoded_dict['attention_mask']\n",
    "\n",
    "# Create DataLoader for batch processing\n",
    "dataset = TensorDataset(input_ids, attention_masks)\n",
    "batch_size = 64  # You can adjust this based on your system's memory\n",
    "dataloader = DataLoader(\n",
    "    dataset, sampler=SequentialSampler(dataset), batch_size=batch_size\n",
    ")\n",
    "\n",
    "# Classify the paintings\n",
    "model.eval()\n",
    "predictions = []\n",
    "\n",
    "with torch.no_grad():\n",
    "    for batch in dataloader:\n",
    "        b_input_ids = batch[0].to(device)\n",
    "        b_attention_masks = batch[1].to(device)\n",
    "        outputs = model(b_input_ids, attention_mask=b_attention_masks)\n",
    "        logits = outputs.logits\n",
    "        predictions.append(logits.cpu())\n",
    "\n",
    "# Concatenate all predictions\n",
    "predictions = torch.cat(predictions, dim=0)\n",
    "\n",
    "# Apply sigmoid to get probabilities\n",
    "probabilities = torch.sigmoid(predictions).numpy()\n",
    "\n",
    "# Apply a threshold to get the predicted classes\n",
    "df['predicted_classes'] = [\n",
    "    [classes[i] for i in range(len(classes)) if pred[i] > 0.5]\n",
    "    for pred in probabilities\n",
    "]\n",
    "\n",
    "# Display the results\n",
    "print(df[['full_description', 'predicted_classes']])"
   ]
  }
 ],
 "metadata": {
  "kernelspec": {
   "display_name": "torch",
   "language": "python",
   "name": "python3"
  },
  "language_info": {
   "codemirror_mode": {
    "name": "ipython",
    "version": 3
   },
   "file_extension": ".py",
   "mimetype": "text/x-python",
   "name": "python",
   "nbconvert_exporter": "python",
   "pygments_lexer": "ipython3",
   "version": "3.12.7"
  }
 },
 "nbformat": 4,
 "nbformat_minor": 2
}
