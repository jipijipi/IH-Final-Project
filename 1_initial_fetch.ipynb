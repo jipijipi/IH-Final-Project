{
 "cells": [
  {
   "cell_type": "markdown",
   "metadata": {},
   "source": [
    "# Food in Art"
   ]
  },
  {
   "cell_type": "code",
   "execution_count": null,
   "metadata": {},
   "outputs": [],
   "source": [
    "%load_ext autoreload\n",
    "%autoreload 2 "
   ]
  },
  {
   "cell_type": "code",
   "execution_count": null,
   "metadata": {},
   "outputs": [],
   "source": [
    "import pandas as pd\n",
    "import os\n",
    "import requests\n",
    "from fetching import *"
   ]
  },
  {
   "cell_type": "markdown",
   "metadata": {},
   "source": [
    "## Fetch initial paintings IDs"
   ]
  },
  {
   "cell_type": "markdown",
   "metadata": {},
   "source": [
    "### queries"
   ]
  },
  {
   "cell_type": "code",
   "execution_count": null,
   "metadata": {},
   "outputs": [],
   "source": [
    "wikidata_base_query = \"\"\"\n",
    "SELECT ?item ?author_wikidata ?location_wikidata WHERE {{\n",
    "?item wdt:P31 wd:Q3305213.\n",
    "OPTIONAL {{ ?item wdt:P170 ?author_wikidata. }}\n",
    "OPTIONAL {{ ?item wdt:P276 ?location_wikidata. }}\n",
    "}}\n",
    "LIMIT {limit}\n",
    "OFFSET {offset}\n",
    "\"\"\"\n",
    "\n",
    "\n",
    "author_query_template = \"\"\"\n",
    "SELECT DISTINCT ?{src_column_name} ?author_name ?country ?country_label ?gender ?gender_label \n",
    "       ?date_of_birth ?place_of_birth ?place_of_birth_label \n",
    "       ?place_of_birth_country ?place_of_birth_country_label \n",
    "WHERE {{\n",
    "    VALUES ?{src_column_name} {{ {qid_list} }}\n",
    "    \n",
    "    # Author-specific information here\n",
    "    OPTIONAL {{\n",
    "        ?{src_column_name} rdfs:label ?author_name.\n",
    "        FILTER(LANG(?author_name) = \"en\")\n",
    "    }}\n",
    "    OPTIONAL {{\n",
    "        ?{src_column_name} wdt:P27 ?country.\n",
    "        ?country rdfs:label ?country_label.\n",
    "        FILTER(LANG(?country_label) = \"en\")\n",
    "    }}\n",
    "    OPTIONAL {{\n",
    "        ?{src_column_name} wdt:P21 ?gender.\n",
    "        ?gender rdfs:label ?gender_label.\n",
    "        FILTER(LANG(?gender_label) = \"en\")\n",
    "    }}\n",
    "    OPTIONAL {{\n",
    "        ?{src_column_name} wdt:P569 ?date_of_birth.\n",
    "    }}\n",
    "    OPTIONAL {{\n",
    "        ?{src_column_name} wdt:P19 ?place_of_birth.\n",
    "        ?place_of_birth rdfs:label ?place_of_birth_label.\n",
    "        FILTER(LANG(?place_of_birth_label) = \"en\")\n",
    "        OPTIONAL {{\n",
    "            ?place_of_birth wdt:P17 ?place_of_birth_country.\n",
    "            ?place_of_birth_country rdfs:label ?place_of_birth_country_label.\n",
    "            FILTER(LANG(?place_of_birth_country_label) = \"en\")\n",
    "        }}\n",
    "    }}\n",
    "}}\n",
    "\"\"\"\n",
    "paintings_query_template = \"\"\"\n",
    "    SELECT ?item ?title ?creation_date ?origin_country ?display_country ?type ?school ?time_period ?image_url (GROUP_CONCAT(?depicts_label; separator=\", \") AS ?depicts) WHERE {{\n",
    "    VALUES ?item {{ {qid_list} }}\n",
    "\n",
    "    # Title of the item\n",
    "    OPTIONAL {{\n",
    "        ?item rdfs:label ?title.\n",
    "        FILTER(LANG(?title) = \"en\")\n",
    "    }}\n",
    "    \n",
    "    OPTIONAL {{ ?item wdt:P571 ?creation_date. }}\n",
    "    OPTIONAL {{ ?item wdt:P571 ?creation_date. }}\n",
    "    \n",
    "    # Origin country of the item or the author\n",
    "    OPTIONAL {{\n",
    "        ?item wdt:P495 ?origin_country_wd.\n",
    "        ?origin_country_wd rdfs:label ?origin_country.\n",
    "        FILTER(LANG(?origin_country) = \"en\")\n",
    "    }}\n",
    "    OPTIONAL {{\n",
    "        ?item wdt:P50 ?author.\n",
    "        ?author wdt:P27 ?author_country_wd.\n",
    "        ?author_country_wd rdfs:label ?author_country.\n",
    "        FILTER(LANG(?author_country) = \"en\")\n",
    "    }}\n",
    "    BIND(COALESCE(?origin_country, ?author_country) AS ?origin_country)\n",
    "    \n",
    "    # Display country\n",
    "    OPTIONAL {{\n",
    "        ?item wdt:P276 ?display_location_wd.\n",
    "        OPTIONAL {{\n",
    "            ?display_location_wd wdt:P17 ?display_country_wd.\n",
    "            ?display_country_wd rdfs:label ?display_country.\n",
    "            FILTER(LANG(?display_country) = \"en\")\n",
    "        }}\n",
    "    }}\n",
    "    \n",
    "    # Type\n",
    "    OPTIONAL {{\n",
    "        ?item wdt:P136 ?type_wd.\n",
    "        ?type_wd rdfs:label ?type.\n",
    "        FILTER(LANG(?type) = \"en\")\n",
    "    }}\n",
    "    \n",
    "    # School or tradition\n",
    "    OPTIONAL {{\n",
    "        ?item wdt:P135 ?school_wd.\n",
    "        ?school_wd rdfs:label ?school.\n",
    "        FILTER(LANG(?school) = \"en\")\n",
    "    }}\n",
    "    \n",
    "    # Time period\n",
    "    OPTIONAL {{\n",
    "        ?item wdt:P2348 ?time_period_wd.\n",
    "        ?time_period_wd rdfs:label ?time_period.\n",
    "        FILTER(LANG(?time_period) = \"en\")\n",
    "    }}\n",
    "    \n",
    "    # Image URL\n",
    "    OPTIONAL {{\n",
    "        ?item wdt:P18 ?image_url.\n",
    "    }}\n",
    "    \n",
    "    # Depicts\n",
    "    OPTIONAL {{\n",
    "        ?item wdt:P180 ?depicts_wd.\n",
    "        ?depicts_wd rdfs:label ?depicts_label.\n",
    "        FILTER(LANG(?depicts_label) = \"en\")\n",
    "    }}\n",
    "    }}\n",
    "    GROUP BY ?item ?title ?creation_date ?origin_country ?display_country ?type ?school ?time_period ?image_url\n",
    "\"\"\"\n",
    "\n",
    "locations_query_template = \"\"\"\n",
    "    SELECT ?{src_column_name} ?museum_name ?city ?city_label ?country ?country_label \n",
    "           ?founding_date ?museum_type ?museum_type_label ?coordinates ?part_of \n",
    "    WHERE {{\n",
    "        VALUES ?{src_column_name} {{ {qid_list} }}\n",
    "\n",
    "        OPTIONAL {{\n",
    "            ?{src_column_name} wdt:P17 ?country.                             # P17 = country\n",
    "            ?country rdfs:label ?country_label.                              # Get the label for country\n",
    "            FILTER(LANG(?country_label) = \"en\")\n",
    "        }}\n",
    "        \n",
    "        OPTIONAL {{\n",
    "            ?{src_column_name} wdt:P131 ?city.                               # P131 = city\n",
    "            ?city rdfs:label ?city_label.                                    # Get the label for city\n",
    "            FILTER(LANG(?city_label) = \"en\")\n",
    "        }}\n",
    "        \n",
    "        OPTIONAL {{\n",
    "            ?{src_column_name} wdt:P571 ?founding_date.                      # P571 = founding date\n",
    "        }}\n",
    "        \n",
    "        OPTIONAL {{\n",
    "            ?{src_column_name} wdt:P31 ?museum_type.                         # P31 = instance of (museum type)\n",
    "            ?museum_type rdfs:label ?museum_type_label.                      # Get the label for museum type\n",
    "            FILTER(LANG(?museum_type_label) = \"en\")\n",
    "        }}\n",
    "        \n",
    "        OPTIONAL {{\n",
    "            ?{src_column_name} wdt:P625 ?coordinates.                        # P625 = coordinates (retrieves Geo-coordinates)\n",
    "        }}\n",
    "        \n",
    "        OPTIONAL {{\n",
    "            ?{src_column_name} rdfs:label ?museum_name.                      # Get the museum's name\n",
    "            FILTER(LANG(?museum_name) = \"en\")\n",
    "        }}\n",
    "        \n",
    "        OPTIONAL {{\n",
    "            ?{src_column_name} wdt:P361 ?part_of.                            # P361 = part of (retrieves parent entities)\n",
    "        }}\n",
    "    }}\n",
    "\"\"\""
   ]
  },
  {
   "cell_type": "markdown",
   "metadata": {},
   "source": [
    "### initial fetch"
   ]
  },
  {
   "cell_type": "code",
   "execution_count": null,
   "metadata": {},
   "outputs": [],
   "source": [
    "paintings_ids = fetch_and_process_wikidata('paintings_ids', wikidata_base_query, 'item', max_batches_for_testing=0)\n"
   ]
  },
  {
   "cell_type": "markdown",
   "metadata": {},
   "source": [
    "### supplement fetch"
   ]
  },
  {
   "cell_type": "code",
   "execution_count": null,
   "metadata": {},
   "outputs": [],
   "source": [
    "get_supplement_from_wikidata('all_painters', 'data/paintings_ids.csv', 'author_wikidata', author_query_template,)\n",
    "get_supplement_from_wikidata('all_paintings', 'data/paintings_ids.csv', 'item', paintings_query_template,)\n",
    "get_supplement_from_wikidata('all_locations', 'data/paintings_ids.csv', 'location_wikidata', locations_query_template,)\n"
   ]
  },
  {
   "cell_type": "markdown",
   "metadata": {},
   "source": [
    "## Fetch economics indicator"
   ]
  },
  {
   "cell_type": "code",
   "execution_count": null,
   "metadata": {},
   "outputs": [],
   "source": [
    "url = 'https://dataverse.nl/api/access/datafile/421302'\n",
    "file_path = 'data/mpd2023_web.xlsx'\n",
    "\n",
    "if not os.path.exists(file_path):\n",
    "    response = requests.get(url)\n",
    "    with open(file_path, 'wb') as f:\n",
    "        f.write(response.content)\n",
    "\n",
    "# Load a specific sheet by name\n",
    "df = pd.read_excel('data/mpd2023_web.xlsx', sheet_name='Full data')\n",
    "df"
   ]
  },
  {
   "cell_type": "code",
   "execution_count": null,
   "metadata": {},
   "outputs": [],
   "source": [
    "df['decade'] = (df['year'] // 10) * 10\n",
    "# Grouping data by country and decade to calculate the average 'gdppc' and 'pop' for each group\n",
    "df_avg = df.groupby(['country', 'decade'])[['gdppc', 'pop']].mean().reset_index()\n",
    "\n",
    "# Displaying the resulting dataframe\n",
    "print(df_avg)\n"
   ]
  },
  {
   "cell_type": "code",
   "execution_count": null,
   "metadata": {},
   "outputs": [],
   "source": [
    "# Grouping data by just the 'decade' to calculate the average 'gdppc' and 'pop' for each decade\n",
    "df_avg_decades = df.groupby('decade')[['gdppc', 'pop']].mean().reset_index()\n",
    "display(df_avg_decades)\n",
    "\n",
    "# Fill in missing values using interpolation\n",
    "df_avg_decades['gdppc'] = df_avg_decades['gdppc'].interpolate(method='polynomial', order=2)\n",
    "df_avg_decades['pop'] = df_avg_decades['pop'].interpolate(method='polynomial', order=2)\n",
    "df_avg_decades"
   ]
  },
  {
   "cell_type": "code",
   "execution_count": null,
   "metadata": {},
   "outputs": [],
   "source": [
    "#export\n",
    "df_avg_decades.to_csv('data/gdp_pop_decades.csv', index=False)"
   ]
  }
 ],
 "metadata": {
  "kernelspec": {
   "display_name": "base",
   "language": "python",
   "name": "python3"
  },
  "language_info": {
   "codemirror_mode": {
    "name": "ipython",
    "version": 3
   },
   "file_extension": ".py",
   "mimetype": "text/x-python",
   "name": "python",
   "nbconvert_exporter": "python",
   "pygments_lexer": "ipython3",
   "version": "3.12.4"
  }
 },
 "nbformat": 4,
 "nbformat_minor": 2
}
