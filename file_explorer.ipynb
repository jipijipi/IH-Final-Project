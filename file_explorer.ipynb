{
 "cells": [
  {
   "cell_type": "code",
   "execution_count": 1,
   "metadata": {},
   "outputs": [],
   "source": [
    "import os\n",
    "from PIL import Image\n",
    "import pandas as pd\n"
   ]
  },
  {
   "cell_type": "code",
   "execution_count": null,
   "metadata": {},
   "outputs": [],
   "source": [
    "\n",
    "def list_image_dimensions(folder_path):\n",
    "    # Initialize an empty list to store image data\n",
    "    image_data = []\n",
    "\n",
    "    # Loop through each file in the folder\n",
    "    for filename in os.listdir(folder_path):\n",
    "        if filename.lower().endswith(('.png', '.jpg', '.jpeg', '.bmp', '.gif', '.tiff')):\n",
    "            # Construct full file path\n",
    "            file_path = os.path.join(folder_path, filename)\n",
    "            \n",
    "            # Open the image to get its dimensions\n",
    "            with Image.open(file_path) as img:\n",
    "                width, height = img.size\n",
    "            \n",
    "            # Append the data to the list\n",
    "            image_data.append({'filename': filename, 'width': width, 'height': height})\n",
    "    \n",
    "    # Convert the list to a DataFrame\n",
    "    df = pd.DataFrame(image_data)\n",
    "    \n",
    "    return df\n",
    "\n",
    "# Specify the folder containing images\n",
    "folder_path = 'img/img_512'\n",
    "df = list_image_dimensions(folder_path)\n",
    "display(df)"
   ]
  },
  {
   "cell_type": "code",
   "execution_count": null,
   "metadata": {},
   "outputs": [],
   "source": [
    "display(df[df['width'] < 300])"
   ]
  },
  {
   "cell_type": "code",
   "execution_count": 3,
   "metadata": {},
   "outputs": [],
   "source": [
    "df.to_csv('data/img_512.csv', index=False)"
   ]
  }
 ],
 "metadata": {
  "kernelspec": {
   "display_name": "base",
   "language": "python",
   "name": "python3"
  },
  "language_info": {
   "codemirror_mode": {
    "name": "ipython",
    "version": 3
   },
   "file_extension": ".py",
   "mimetype": "text/x-python",
   "name": "python",
   "nbconvert_exporter": "python",
   "pygments_lexer": "ipython3",
   "version": "3.12.4"
  }
 },
 "nbformat": 4,
 "nbformat_minor": 2
}
