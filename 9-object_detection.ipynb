{
 "cells": [
  {
   "cell_type": "markdown",
   "metadata": {},
   "source": [
    "# Food in Art"
   ]
  },
  {
   "cell_type": "code",
   "execution_count": null,
   "metadata": {},
   "outputs": [],
   "source": [
    "import pandas as pd\n",
    "import torch\n",
    "from transformers import OwlViTProcessor, OwlViTForObjectDetection\n",
    "from PIL import Image\n",
    "import matplotlib.pyplot as plt\n",
    "import matplotlib.patches as patches\n",
    "import os"
   ]
  },
  {
   "cell_type": "markdown",
   "metadata": {},
   "source": [
    "#### Choose device"
   ]
  },
  {
   "cell_type": "code",
   "execution_count": null,
   "metadata": {},
   "outputs": [],
   "source": [
    "device = torch.device(\"mps\" if torch.backends.mps.is_available() else \"cpu\")"
   ]
  },
  {
   "cell_type": "code",
   "execution_count": null,
   "metadata": {},
   "outputs": [],
   "source": [
    "# Load the processor and model\n",
    "processor = OwlViTProcessor.from_pretrained(\"google/owlvit-base-patch32\")\n",
    "model = OwlViTForObjectDetection.from_pretrained(\"google/owlvit-base-patch32\").to(device)\n"
   ]
  },
  {
   "cell_type": "code",
   "execution_count": null,
   "metadata": {},
   "outputs": [],
   "source": [
    "image_folder = 'img/img_512/'\n",
    "image_names = [\"Edouard_Manet_-_The_Plum_-_National_Gallery_of_Art.jpg\", \"'A Boy Violinist' painting by Hendrick Terbrugghen, Dayton Art Institute.JPG\", \"The_Triumph_of_Death_by_Pieter_Bruegel_the_Elder.jpg\",\"Johannes_Vermeer_-_De_Soldaat_en_het_Lachende_Meisje_-_Google_Art_Project.jpg\",\"Van_Eyck_-_Arnolfini_Portrait.jpg\"]\n",
    "image_paths = [os.path.join(image_folder, image_name.replace('_', ' ')) for image_name in image_names]\n",
    "images = [Image.open(image_path) for image_path in image_paths]\n",
    "\n",
    "\n",
    "# Display the image\n",
    "for image in images:\n",
    "    display(image)"
   ]
  },
  {
   "cell_type": "code",
   "execution_count": null,
   "metadata": {},
   "outputs": [],
   "source": [
    "import torch\n",
    "from transformers import OwlViTProcessor, OwlViTForObjectDetection\n",
    "from PIL import Image\n",
    "import matplotlib.pyplot as plt\n",
    "import matplotlib.patches as patches\n",
    "\n",
    "# Set the device\n",
    "if torch.backends.mps.is_available():\n",
    "    device = torch.device(\"mps\")\n",
    "else:\n",
    "    device = torch.device(\"cpu\")\n",
    "\n",
    "# Load the processor and model\n",
    "processor = OwlViTProcessor.from_pretrained(\"google/owlvit-base-patch32\")\n",
    "model = OwlViTForObjectDetection.from_pretrained(\"google/owlvit-base-patch32\").to(device)\n",
    "\n",
    "# Load the image\n",
    "#image = Image.open(f'img/img_512/{\"Fruit Dish on a Garden Chair LACMA M.54.41.1.jpg\".replace('_', ' ')}')\n",
    "image = Image.open(f'img/img_512/{\"Muhammad Ali - A feast in a pavilion setting - 1920.1966 - Cleveland Museum of Art.tif\".replace('_', ' ')}')\n",
    "\n",
    "# List of food items\n",
    "food_items = ['wine', 'beverage', 'meat', 'fruit', 'vegetable', 'bread', 'dairy', 'dessert', 'seafood']\n",
    "\n",
    "# Prepare inputs\n",
    "inputs = processor(text=food_items, images=image, return_tensors=\"pt\").to(device)\n",
    "\n",
    "# Perform inference\n",
    "with torch.no_grad():\n",
    "    outputs = model(**inputs)\n",
    "\n",
    "# Post-process the outputs\n",
    "target_sizes = torch.Tensor([image.size[::-1]]).to(device)\n",
    "results = processor.post_process_object_detection(outputs=outputs, target_sizes=target_sizes)[0]\n",
    "# Visualize the results\n",
    "fig, ax = plt.subplots(1, figsize=(12, 8))\n",
    "ax.imshow(image)\n",
    "\n",
    "for score, label, box in zip(results[\"scores\"], results[\"labels\"], results[\"boxes\"]):\n",
    "    if score >= 0.1:\n",
    "        box = box.to(\"cpu\").numpy()\n",
    "        xmin, ymin, xmax, ymax = box\n",
    "        width, height = xmax - xmin, ymax - ymin\n",
    "        rect = patches.Rectangle((xmin, ymin), width, height, linewidth=2, edgecolor='red', facecolor='none')\n",
    "        ax.add_patch(rect)\n",
    "        ax.text(xmin, ymin - 10, f\"{food_items[label]}: {score:.2f}\", color='red', fontsize=12, weight='bold')\n",
    "\n",
    "plt.axis('off')\n",
    "plt.show()"
   ]
  }
 ],
 "metadata": {
  "kernelspec": {
   "display_name": "torch",
   "language": "python",
   "name": "python3"
  },
  "language_info": {
   "codemirror_mode": {
    "name": "ipython",
    "version": 3
   },
   "file_extension": ".py",
   "mimetype": "text/x-python",
   "name": "python",
   "nbconvert_exporter": "python",
   "pygments_lexer": "ipython3",
   "version": "3.12.7"
  }
 },
 "nbformat": 4,
 "nbformat_minor": 2
}
