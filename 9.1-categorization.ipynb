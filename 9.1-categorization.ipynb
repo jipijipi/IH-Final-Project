{
 "cells": [
  {
   "cell_type": "code",
   "execution_count": null,
   "metadata": {},
   "outputs": [],
   "source": [
    "import pandas as pd\n",
    "import json\n",
    "import urllib\n",
    "import os\n",
    "import random\n",
    "from urllib.parse import quote\n",
    "from IPython.display import Image\n",
    "from datetime import datetime\n"
   ]
  },
  {
   "cell_type": "code",
   "execution_count": null,
   "metadata": {},
   "outputs": [],
   "source": [
    "paintings = pd.read_csv('data/wikidata_all_paintings.csv')\n",
    "paintings = paintings.drop_duplicates(subset='item', keep='first')\n",
    "food_keywords = pd.read_csv('data/food_related_words.csv')\n",
    "\n",
    "display(paintings.head())\n",
    "display(food_keywords)"
   ]
  },
  {
   "cell_type": "code",
   "execution_count": null,
   "metadata": {},
   "outputs": [],
   "source": [
    "\n",
    "\n",
    "# --- One-Hot Encoding Based on Closest Food Terms ---\n",
    "\n",
    "# Step 1: Create a mapping from word to closest_food_term\n",
    "word_to_food_term = food_keywords.set_index('word')['closest_food_term'].str.lower().to_dict()\n",
    "\n",
    "# Step 2: Prepare the list of unique closest_food_terms for one-hot encoding\n",
    "unique_food_terms = food_keywords['closest_food_term'].str.lower().unique()\n",
    "\n",
    "# Step 3: Handle missing 'depicts' by replacing NaN with empty string\n",
    "paintings['depicts'] = paintings['depicts'].fillna('')\n",
    "\n",
    "# Step 4: Split the 'depicts' column into lists of words, lowercase, and strip whitespace\n",
    "paintings['depicts_list'] = paintings['depicts'].str.lower().str.split(',').apply(lambda x: [word.strip() for word in x])\n",
    "\n",
    "# Step 5: Explode the lists to create a row for each word\n",
    "depicts_exploded = paintings.explode('depicts_list')\n",
    "\n",
    "# Step 6: Map each word to its closest_food_term if it exists in the mapping\n",
    "depicts_exploded['closest_food_term'] = depicts_exploded['depicts_list'].map(word_to_food_term)\n",
    "\n",
    "# Step 7: Remove rows where there is no matching word in DataFrame B (i.e., closest_food_term is NaN)\n",
    "matched_depicts = depicts_exploded.dropna(subset=['closest_food_term'])\n",
    "\n",
    "# Step 8: Create one-hot encoded columns for the closest_food_terms\n",
    "food_dummies = pd.get_dummies(matched_depicts['closest_food_term'])\n",
    "\n",
    "# Step 9: Ensure that all unique_food_terms are represented as columns\n",
    "food_dummies = food_dummies.reindex(columns=unique_food_terms, fill_value=0)\n",
    "\n",
    "# Step 10: Aggregate the dummy columns back to the original DataFrame A's index\n",
    "food_dummies_grouped = food_dummies.groupby(matched_depicts.index).max()\n",
    "\n",
    "# Step 11: Join the one-hot encoded columns back to DataFrame A\n",
    "paintings = paintings.join(food_dummies_grouped)\n",
    "\n",
    "# Step 12: Fill any missing values in the one-hot encoded columns with 0\n",
    "paintings[unique_food_terms] = paintings[unique_food_terms].fillna(0).astype(int)\n",
    "\n",
    "# Step 13: Ensure all one-hot encoded columns are present in DataFrame A\n",
    "for term in unique_food_terms:\n",
    "    if term not in paintings.columns:\n",
    "        paintings[term] = 0\n",
    "\n",
    "# Optional Step: Drop the temporary 'depicts_list' column\n",
    "paintings = paintings.drop(columns=['depicts_list'])\n",
    "\n",
    "# Display the updated DataFrame A\n",
    "print(\"Updated DataFrame A with One-Hot Encoded Closest Food Terms:\")\n",
    "display(paintings.head())\n",
    "\n",
    "# If you want to save the updated DataFrame to a CSV file, uncomment the following line:\n",
    "# df_A.to_csv('updated_dataframe_A_with_food_terms.csv', index=False)"
   ]
  },
  {
   "cell_type": "code",
   "execution_count": null,
   "metadata": {},
   "outputs": [],
   "source": [
    "# Define the columns to sum (one-hot encoded food term columns)\n",
    "columns_to_sum = unique_food_terms\n",
    "\n",
    "# Sum each row for the specified columns and add a new column 'food_count'\n",
    "paintings['food_count'] = paintings[columns_to_sum].sum(axis=1)\n",
    "\n",
    "# Display the updated DataFrame\n",
    "paintings = paintings.sort_values('food_count', ascending=False)\n",
    "\n",
    "paintings.dropna(subset=['image_url'], inplace=True)\n"
   ]
  },
  {
   "cell_type": "code",
   "execution_count": null,
   "metadata": {},
   "outputs": [],
   "source": [
    "def get_image_path(url,path='img/img_512/'):\n",
    "    parsed = urllib.parse.urlparse(url)\n",
    "    # First decoding: %2520 -> %20\n",
    "    first_decode = urllib.parse.unquote(parsed.path)\n",
    "    # Second decoding: %20 -> space\n",
    "    #second_decode = urllib.parse.unquote(first_decode)\n",
    "    filename = os.path.basename(first_decode)\n",
    "    # Replace spaces with underscores as per MediaWiki API requirements\n",
    "    #filename = filename.replace(' ', '_')\n",
    "    return path + filename\n",
    "\n",
    "paintings['image_path'] = paintings['image_url'].apply(get_image_path)"
   ]
  },
  {
   "cell_type": "code",
   "execution_count": null,
   "metadata": {},
   "outputs": [],
   "source": [
    "# Export a list of images not present in the directory for rows that contain food\n",
    "missing_image_paths = paintings[paintings['food_count'] > 0 & ~paintings['image_path'].apply(os.path.exists)]\n",
    "display(missing_image_paths)\n"
   ]
  },
  {
   "cell_type": "code",
   "execution_count": null,
   "metadata": {},
   "outputs": [],
   "source": [
    "\n",
    "# Save the list to a text file\n",
    "missing_image_paths.to_csv('data/missing_image_paths.csv', index=False)"
   ]
  },
  {
   "cell_type": "code",
   "execution_count": null,
   "metadata": {},
   "outputs": [],
   "source": [
    "paintings_with_food = paintings[['item','image_path']].join(paintings[unique_food_terms])\n",
    "\n",
    "\n",
    "\n",
    "# Remove image paths ending with 'tif'\n",
    "paintings_with_food = paintings_with_food[~paintings_with_food['image_path'].str.endswith('.tif')]\n",
    "# Filter out image paths that do not exist in the specified directory\n",
    "paintings_with_food = paintings_with_food[paintings_with_food['image_path'].apply(lambda x: os.path.exists(x))]\n",
    "\n",
    "\n",
    "\n",
    "\n",
    "# Display the updated DataFrame\n",
    "display(paintings_with_food)\n",
    "\n",
    "paintings_with_food.to_csv('data/paintings_with_food_nlp.csv', index=False)"
   ]
  },
  {
   "cell_type": "code",
   "execution_count": null,
   "metadata": {},
   "outputs": [],
   "source": [
    "paintings_image_path = paintings_with_food[['image_path','item']]\n",
    "paintings_image_path.to_csv('data/paintings_image_path.csv', index=False)"
   ]
  },
  {
   "cell_type": "code",
   "execution_count": null,
   "metadata": {},
   "outputs": [],
   "source": [
    "# Filter paintings that have at least one food-related term\n",
    "paintings_subset = paintings_with_food[paintings_with_food[unique_food_terms].sum(axis=1) > 0]\n",
    "paintings_subset"
   ]
  },
  {
   "cell_type": "code",
   "execution_count": null,
   "metadata": {},
   "outputs": [],
   "source": [
    "\n",
    "paintings_subset = paintings_subset.drop(columns='item')\n",
    "#paintings_subset = paintings_subset.sample(1000, random_state=1)\n",
    "paintings_subset = paintings_subset.reset_index(drop=True)\n",
    "paintings_subset.to_csv('data/paintings_subset.csv', index=False)"
   ]
  },
  {
   "cell_type": "code",
   "execution_count": null,
   "metadata": {},
   "outputs": [],
   "source": [
    "\n",
    "\n",
    "# Define the label columns\n",
    "label_columns = unique_food_terms\n",
    "\n",
    "# Function to create predictions\n",
    "def create_prediction(row):\n",
    "    selected_labels = [label.capitalize() for label in label_columns if row[label] == 1]\n",
    "    if selected_labels:\n",
    "        return {\n",
    "            \"result\": [\n",
    "                {\n",
    "                    \"from_name\": \"labels\",\n",
    "                    \"to_name\": \"image\",\n",
    "                    \"type\": \"choices\",\n",
    "                    \"value\": {\n",
    "                        \"choices\": selected_labels\n",
    "                    }\n",
    "                }\n",
    "            ]\n",
    "        }\n",
    "    else:\n",
    "        return {\"result\": []}\n",
    "\n",
    "# Create the Label Studio JSON structure with predictions\n",
    "label_studio_data = []\n",
    "for _, row in paintings_with_food.iterrows():\n",
    "    data_entry = {\n",
    "        \"data\": {\n",
    "            \"image\": '/data/local-files/?d='+row['image_path'] # Ensure the path is correct\n",
    "        },\n",
    "        \"predictions\": [create_prediction(row)]\n",
    "    }\n",
    "    label_studio_data.append(data_entry)\n",
    "\n",
    "# Save to JSON file\n",
    "\n",
    "# Get the current timestamp\n",
    "timestamp = datetime.now().strftime('%Y%m%d_%H%M%S')\n",
    "\n",
    "# Save to JSON file with timestamp in the filename\n",
    "\"\"\" with open(f'label_studio_predictions_{timestamp}.json', 'w') as f:\n",
    "    json.dump(label_studio_data, f, indent=4) \"\"\""
   ]
  },
  {
   "cell_type": "code",
   "execution_count": null,
   "metadata": {},
   "outputs": [],
   "source": [
    "\n",
    "\n",
    "# Select a random image path from the DataFrame\n",
    "random_image_path = random.choice(paintings_subset['image_path'].tolist())\n",
    "\n",
    "# Display the image\n",
    "display(Image(filename=random_image_path))\n",
    "print(random_image_path)"
   ]
  },
  {
   "cell_type": "code",
   "execution_count": null,
   "metadata": {},
   "outputs": [],
   "source": [
    "import shutil\n",
    "\n",
    "# Define the source and destination directories\n",
    "source_dir = 'img/img_512/'\n",
    "destination_dir = 'img/duplicate_images/'\n",
    "\n",
    "# Ensure the destination directory exists\n",
    "os.makedirs(destination_dir, exist_ok=True)\n",
    "\n",
    "# Copy the random image to the destination directory\n",
    "shutil.copy(random_image_path, os.path.join(destination_dir, os.path.basename(random_image_path)))"
   ]
  }
 ],
 "metadata": {
  "kernelspec": {
   "display_name": "base",
   "language": "python",
   "name": "python3"
  },
  "language_info": {
   "codemirror_mode": {
    "name": "ipython",
    "version": 3
   },
   "file_extension": ".py",
   "mimetype": "text/x-python",
   "name": "python",
   "nbconvert_exporter": "python",
   "pygments_lexer": "ipython3",
   "version": "3.12.4"
  }
 },
 "nbformat": 4,
 "nbformat_minor": 2
}
