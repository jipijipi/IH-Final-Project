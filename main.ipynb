{
 "cells": [
  {
   "cell_type": "markdown",
   "metadata": {},
   "source": [
    "# Food in Art"
   ]
  },
  {
   "cell_type": "markdown",
   "metadata": {},
   "source": [
    "### Angles\n",
    "\n",
    "- Proportion of food related items in museums\n",
    "- Proportion of food related artworks by epoch and country\n",
    "- Is food central topic\n",
    "- Network diagram linking culinary styles with corresponding art movements.\n",
    "- fruit, meal, dessert, etc\n",
    "- feasts, banquets, etc\n",
    "- food as a medium?\n",
    "- food symbolism?\n",
    "- **Analysis Angle:** Investigate how the introduction of new food items through trade influenced their depiction in art.\n",
    "    - **Visualization:** Maps showing trade routes alongside corresponding changes in food representation in art.\"\n",
    "- compare current food focus by country\n",
    "- Nutrional evolution\n",
    "- **Analysis Angle:** Explore how periods of famine or abundance influenced the portrayal of food in art.\n",
    "    - **Visualization:** Correlation charts linking historical events of scarcity or abundance with changes in food depiction.\"\n",
    "- Social classes?\n",
    "- Agriculture, markets?\n",
    "- **Analysis Angle:** Analyze the use of color in food-themed art and its psychological effects on viewers.\n",
    "- **Visualization:** Color wheel charts displaying dominant hues in various artworks.\"\n",
    "- **Analysis Angle:** Investigate how chefs create dishes inspired by artworks, merging visual art with gastronomy.\n",
    "- **Visualization:** Side-by-side images of artworks and the culinary dishes they inspired.\""
   ]
  },
  {
   "cell_type": "code",
   "execution_count": 1,
   "metadata": {},
   "outputs": [],
   "source": [
    "import pywikibot\n",
    "from pywikibot import pagegenerators\n",
    "import xml.etree.ElementTree as ET\n",
    "import pandas as pd\n",
    "from lxml import etree\n",
    "import re\n",
    "from urllib.parse import quote"
   ]
  },
  {
   "cell_type": "markdown",
   "metadata": {},
   "source": [
    "## TODO\n",
    "1. Set columns : AUTHOR TITLE DATE ORIGIN_COUNTRY DISPLAY_COUNTRY DISPLAY_LOCATION TYPE SCHOOL TIMEFRAME? TIME_PERIOD  WA_URL WIKI_URL WIKIDATA_ID IMAGE_URL KEYWORDS\n",
    "2. Get data from web gallery\n",
    "3. Clean and filter data, only paintings, remove dupes, remove (details) cf mona lisa\n",
    "4. Scrape web gallery for description and image url\n",
    "5. Save to CSV, cache\n",
    "6. fetch all images\n",
    "5. Get data from wikidata\n",
    "7. supplement first df\n",
    "6. remove dupes\n",
    "4. fine tune yolo5 for food recognition using wikidata"
   ]
  },
  {
   "cell_type": "markdown",
   "metadata": {},
   "source": [
    "## Data exploration"
   ]
  },
  {
   "cell_type": "code",
   "execution_count": null,
   "metadata": {},
   "outputs": [],
   "source": [
    "paintings_df = pd.read_csv('data/paintings_with_descriptions.csv')\n",
    "paintings_df"
   ]
  },
  {
   "cell_type": "code",
   "execution_count": null,
   "metadata": {},
   "outputs": [],
   "source": [
    "#get infos\n",
    "display(paintings_df.info())\n",
    "display(paintings_df.isna().sum())\n"
   ]
  },
  {
   "cell_type": "code",
   "execution_count": 4,
   "metadata": {},
   "outputs": [],
   "source": [
    "# drop duplicates\n",
    "paintings_df = paintings_df.drop_duplicates(subset=['item'])\n",
    "paintings_df = paintings_df.drop_duplicates(subset=['image_url'])"
   ]
  },
  {
   "cell_type": "code",
   "execution_count": null,
   "metadata": {},
   "outputs": [],
   "source": [
    "# remove missing images\n",
    "paintings_df = paintings_df.dropna(subset=['image_url'])\n",
    "\n",
    "\n",
    "print(paintings_df.shape)\n",
    "display(paintings_df.info())\n",
    "display(paintings_df)\n"
   ]
  },
  {
   "cell_type": "markdown",
   "metadata": {},
   "source": [
    "## NLP"
   ]
  },
  {
   "cell_type": "code",
   "execution_count": 6,
   "metadata": {},
   "outputs": [],
   "source": [
    "classes = ['wine', 'beverage', 'meat', 'fruit', 'vegetable', 'bread', 'dairy', 'dessert', 'seafood']"
   ]
  }
 ],
 "metadata": {
  "kernelspec": {
   "display_name": "base",
   "language": "python",
   "name": "python3"
  },
  "language_info": {
   "codemirror_mode": {
    "name": "ipython",
    "version": 3
   },
   "file_extension": ".py",
   "mimetype": "text/x-python",
   "name": "python",
   "nbconvert_exporter": "python",
   "pygments_lexer": "ipython3",
   "version": "3.12.4"
  }
 },
 "nbformat": 4,
 "nbformat_minor": 2
}
