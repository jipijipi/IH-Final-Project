{
 "cells": [
  {
   "cell_type": "code",
   "execution_count": null,
   "metadata": {},
   "outputs": [],
   "source": [
    "from gensim.models import KeyedVectors\n",
    "import pandas as pd\n",
    "from transformers import pipeline\n",
    "import torch\n",
    "\n"
   ]
  },
  {
   "cell_type": "code",
   "execution_count": null,
   "metadata": {},
   "outputs": [],
   "source": [
    "# Prepare the input data\n",
    "df = pd.read_csv('data/paintings_with_descriptions.csv') \n",
    "df"
   ]
  },
  {
   "cell_type": "code",
   "execution_count": null,
   "metadata": {},
   "outputs": [],
   "source": [
    "# Split the 'depicts' column into individual words and create a list of all words\n",
    "all_words = df['depicts'].dropna().str.split(',').explode().str.strip().unique()\n",
    "\n",
    "# Create a new dataframe with the unique words\n",
    "unique_words_df = pd.DataFrame(all_words, columns=['word'])\n",
    "\n",
    "# Display the dataframe\n",
    "unique_words_df"
   ]
  },
  {
   "cell_type": "code",
   "execution_count": null,
   "metadata": {},
   "outputs": [],
   "source": [
    "import pandas as pd\n",
    "import torch\n",
    "from gensim.models import KeyedVectors\n",
    "from tqdm import tqdm  # Import tqdm for the progress bar\n",
    "\n",
    "# Load the FastText model\n",
    "model = KeyedVectors.load_word2vec_format('data/fasttext/wiki.simple.vec', binary=False)\n",
    "\n",
    "# Sample DataFrame with keywords\n",
    "data = {\n",
    "    'word': [\n",
    "        'picador', 'stadium', 'spear', 'bullfighting', 'man', \n",
    "        'Saint François d‘Assise', 'Césarine d\\'Houdetot', \n",
    "        'Paul et Virginie', 'Pamplemousses', 'Scipion Pinel'\n",
    "    ]\n",
    "}\n",
    "df = pd.DataFrame(data)\n",
    "\n",
    "# Define a list of food-related terms to calculate similarity\n",
    "food_terms = [\"food\", \"fruit\", \"vegetable\", \"meat\", \"ingredient\"]\n",
    "\n",
    "# Check if MPS is available, otherwise fallback to CPU\n",
    "device = torch.device(\"mps\") if torch.backends.mps.is_available() else torch.device(\"cpu\")\n",
    "\n",
    "# Prepare food term embeddings and move them to MPS\n",
    "food_embeddings = torch.stack(\n",
    "    [torch.tensor(model[term], device=device) for term in food_terms if term in model]\n",
    ")\n",
    "food_term_names = [term for term in food_terms if term in model]\n",
    "\n",
    "# Function to compute closest food term for a batch of words\n",
    "def get_closest_food_terms_batch(words):\n",
    "    # Filter out words not in model vocabulary\n",
    "    valid_words = [word for word in words if word in model]\n",
    "    if not valid_words:\n",
    "        return [\"Not Food-Related\"] * len(words)\n",
    "\n",
    "    # Move word embeddings to MPS in batch\n",
    "    word_embeddings = torch.stack([torch.tensor(model[word], device=device) for word in valid_words])\n",
    "\n",
    "    # Calculate cosine similarities in a batched way\n",
    "    similarities = torch.cosine_similarity(word_embeddings[:, None, :], food_embeddings[None, :, :], dim=-1)\n",
    "\n",
    "    # Get the best matching food term for each word in the batch\n",
    "    best_similarities, best_indices = similarities.max(dim=1)\n",
    "\n",
    "    # Map results back to original words list with threshold filtering\n",
    "    results = []\n",
    "    j = 0\n",
    "    for word in words:\n",
    "        if word in model:\n",
    "            best_similarity = best_similarities[j].item()\n",
    "            best_term = food_term_names[best_indices[j].item()]\n",
    "            results.append(best_term if best_similarity > 0.3 else \"Not Food-Related\")\n",
    "            j += 1\n",
    "        else:\n",
    "            results.append(\"Not Food-Related\")\n",
    "    return results\n",
    "\n",
    "# Apply batched function in chunks with tqdm progress tracking\n",
    "batch_size = 5  # Adjust batch size for your needs\n",
    "progress_bar = tqdm(total=len(df), desc=\"Processing Batches\", unit=\"words\")\n",
    "\n",
    "results = []\n",
    "for i in range(0, len(df), batch_size):\n",
    "    batch_results = get_closest_food_terms_batch(df['word'][i:i + batch_size].tolist())\n",
    "    results.extend(batch_results)\n",
    "    progress_bar.update(len(batch_results))  # Update progress bar by batch size\n",
    "\n",
    "progress_bar.close()\n",
    "df['closest_food_term'] = results\n",
    "\n",
    "# Display the results\n",
    "print(df)"
   ]
  }
 ],
 "metadata": {
  "kernelspec": {
   "display_name": "torch",
   "language": "python",
   "name": "python3"
  },
  "language_info": {
   "codemirror_mode": {
    "name": "ipython",
    "version": 3
   },
   "file_extension": ".py",
   "mimetype": "text/x-python",
   "name": "python",
   "nbconvert_exporter": "python",
   "pygments_lexer": "ipython3",
   "version": "3.12.7"
  }
 },
 "nbformat": 4,
 "nbformat_minor": 2
}
