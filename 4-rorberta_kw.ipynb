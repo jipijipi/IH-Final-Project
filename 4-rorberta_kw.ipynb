{
 "cells": [
  {
   "cell_type": "code",
   "execution_count": null,
   "metadata": {},
   "outputs": [],
   "source": [
    "from gensim.models import KeyedVectors\n",
    "import pandas as pd\n",
    "from transformers import pipeline\n",
    "import torch\n",
    "import numpy as np\n",
    "\n"
   ]
  },
  {
   "cell_type": "code",
   "execution_count": null,
   "metadata": {},
   "outputs": [],
   "source": [
    "# Prepare the input data\n",
    "data = pd.read_csv('data/paintings_with_descriptions.csv') \n",
    "data"
   ]
  },
  {
   "cell_type": "code",
   "execution_count": null,
   "metadata": {},
   "outputs": [],
   "source": [
    "# Split the 'depicts' column into individual words and create a list of all words\n",
    "all_words = data['depicts'].dropna().str.split(',').explode().str.strip()\n",
    "\n",
    "# Count the occurrences of each word\n",
    "word_counts = all_words.value_counts()\n",
    "\n",
    "# Create a new dataframe with the unique words and their counts\n",
    "unique_words_df = pd.DataFrame(word_counts).reset_index()\n",
    "unique_words_df.columns = ['word', 'count']\n",
    "\n",
    "# Display the dataframe\n",
    "unique_words_df"
   ]
  },
  {
   "cell_type": "code",
   "execution_count": null,
   "metadata": {},
   "outputs": [],
   "source": [
    "import pandas as pd\n",
    "import torch\n",
    "from gensim.models import KeyedVectors\n",
    "from tqdm import tqdm\n",
    "\n",
    "# Load the FastText model\n",
    "model = KeyedVectors.load_word2vec_format('data/fasttext/wiki.simple.vec', binary=False)\n",
    "\n",
    "# Sample DataFrame with keywords\n",
    "data = {\n",
    "    'word': [\n",
    "        'picador', 'butter', 'spear', 'bullfighting', 'man', \n",
    "        'Saint François d‘Assise', 'Césarine d\\'Houdetot', \n",
    "        'Paul et Virginie', 'apple', 'Scipion Pinel'\n",
    "    ]\n",
    "}\n",
    "\n",
    "df = unique_words_df.copy()\n",
    "\n",
    "# Define a list of food-related terms to calculate similarity\n",
    "food_terms = ['food','wine', 'beverage', 'meat', 'fruit', 'vegetable', 'bread', 'dairy', 'dessert', 'seafood', 'meal', 'cookware', 'tableware']\n",
    "\n",
    "# Check if MPS is available, otherwise fallback to CPU\n",
    "device = torch.device(\"mps\") if torch.backends.mps.is_available() else torch.device(\"cpu\")\n",
    "\n",
    "# Prepare food term embeddings and move them to MPS\n",
    "food_embeddings = torch.stack(\n",
    "    [torch.tensor(model[term], device=device) for term in food_terms if term in model]\n",
    ")\n",
    "food_term_names = [term for term in food_terms if term in model]\n",
    "\n",
    "# Function to compute closest food term and its similarity score for a batch of words\n",
    "def get_closest_food_terms_batch(words):\n",
    "    # Filter out words not in model vocabulary\n",
    "    valid_words = [word for word in words if word in model]\n",
    "    if not valid_words:\n",
    "        return [(False, 0.0)] * len(words)\n",
    "\n",
    "    # Move word embeddings to MPS in batch\n",
    "    word_embeddings = torch.stack([torch.tensor(model[word], device=device) for word in valid_words])\n",
    "\n",
    "    # Calculate cosine similarities in a batched way\n",
    "    similarities = torch.cosine_similarity(word_embeddings[:, None, :], food_embeddings[None, :, :], dim=-1)\n",
    "\n",
    "    # Get the best matching food term and its similarity score for each word in the batch\n",
    "    best_similarities, best_indices = similarities.max(dim=1)\n",
    "\n",
    "    # Map results back to the original words list with threshold filtering\n",
    "    results = []\n",
    "    j = 0\n",
    "    for word in words:\n",
    "        if word in model:\n",
    "            best_similarity = best_similarities[j].item()\n",
    "            best_term = food_term_names[best_indices[j].item()]\n",
    "            if best_similarity > 0.45:  # Adjust threshold as needed\n",
    "                results.append((best_term, best_similarity))\n",
    "            else:\n",
    "                results.append((False, 0.0))\n",
    "            j += 1\n",
    "        else:\n",
    "            results.append((False, 0.0))\n",
    "    return results\n",
    "\n",
    "# Apply batched function in chunks with tqdm progress tracking\n",
    "batch_size = 5  # Adjust batch size for your needs\n",
    "progress_bar = tqdm(total=len(df), desc=\"Processing Batches\", unit=\"words\")\n",
    "\n",
    "results = []\n",
    "for i in range(0, len(df), batch_size):\n",
    "    batch_results = get_closest_food_terms_batch(df['word'][i:i + batch_size].tolist())\n",
    "    results.extend(batch_results)\n",
    "    progress_bar.update(len(batch_results))  # Update progress bar by batch size\n",
    "\n",
    "progress_bar.close()\n",
    "\n",
    "# Split the results into two columns in the DataFrame\n",
    "df['closest_food_term'], df['food_similarity_score'] = zip(*results)\n",
    "\n",
    "# Display the results\n",
    "display(df)"
   ]
  },
  {
   "cell_type": "code",
   "execution_count": null,
   "metadata": {},
   "outputs": [],
   "source": [
    "food_related_words = df[~(df['closest_food_term'] == False)]\n",
    "display(food_related_words.sort_values('count', ascending=False))\n",
    "display(food_related_words.sort_values('food_similarity_score', ascending=False))"
   ]
  }
 ],
 "metadata": {
  "kernelspec": {
   "display_name": "torch",
   "language": "python",
   "name": "python3"
  },
  "language_info": {
   "codemirror_mode": {
    "name": "ipython",
    "version": 3
   },
   "file_extension": ".py",
   "mimetype": "text/x-python",
   "name": "python",
   "nbconvert_exporter": "python",
   "pygments_lexer": "ipython3",
   "version": "3.12.7"
  }
 },
 "nbformat": 4,
 "nbformat_minor": 2
}
