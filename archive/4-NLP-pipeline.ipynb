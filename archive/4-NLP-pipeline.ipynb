{
 "cells": [
  {
   "cell_type": "code",
   "execution_count": null,
   "metadata": {},
   "outputs": [],
   "source": [
    "import torch\n",
    "from transformers import pipeline\n",
    "import pandas as pd\n",
    "from tqdm import tqdm\n",
    "import re\n"
   ]
  },
  {
   "cell_type": "code",
   "execution_count": null,
   "metadata": {},
   "outputs": [],
   "source": [
    "# Prepare the input data\n",
    "df = pd.read_csv('data/paintings_with_filenames.csv') \n",
    "df"
   ]
  },
  {
   "cell_type": "code",
   "execution_count": null,
   "metadata": {},
   "outputs": [],
   "source": [
    "\n",
    "def extract_relevant_sections(text):\n",
    "   \n",
    "    if not isinstance(text, str):\n",
    "        return None\n",
    "\n",
    "    # Define regular expression patterns to match each section\n",
    "    intro_pattern = r'^(.*?)(?=\\n==)'\n",
    "    description_pattern = r'== Description ==\\n(.*?)(?=\\n==|\\Z)'\n",
    "    interpretation_pattern = r'== Interpretations ==\\n(.*?)(?=\\n==|\\Z)'\n",
    "\n",
    "    # Search for each section\n",
    "    intro = re.search(intro_pattern, text, re.DOTALL)\n",
    "    description = re.search(description_pattern, text, re.DOTALL)\n",
    "    interpretation = re.search(interpretation_pattern, text, re.DOTALL)\n",
    "\n",
    "    # Extract the sections, if found\n",
    "    result = \"\"\n",
    "    if intro:\n",
    "        result += intro.group(1).strip() + \"\\n\\n\"\n",
    "    if description:\n",
    "        result += \"== Description ==\\n\" + description.group(1).strip() + \"\\n\\n\"\n",
    "    if interpretation:\n",
    "        result += \"== Subject ==\\n\" + interpretation.group(1).strip()\n",
    "\n",
    "    return result.strip()\n"
   ]
  },
  {
   "cell_type": "code",
   "execution_count": null,
   "metadata": {},
   "outputs": [],
   "source": [
    "\n",
    "# Fill NaN values with an empty string\n",
    "\"\"\" df['title'] = df['title'].fillna('')\n",
    "df['depicts'] = df['depicts'].fillna('')\n",
    "df['wga_description'] = df['wga_description'].fillna('')\n",
    "df['article_text'] = df['article_text'].fillna('') \"\"\"\n",
    "\n",
    "df['wiki_description'] = df['article_text'].apply(extract_relevant_sections)\n",
    "\n",
    "df['full_description'] = df['title'] + ' ' + df['depicts'] + ' ' + df['wga_description'] + ' ' + df['wiki_description']\n",
    "\n",
    "# Filter out NaN values from 'full_description'\n",
    "df = df.dropna(subset=['full_description'])\n",
    "df.head()"
   ]
  },
  {
   "cell_type": "code",
   "execution_count": null,
   "metadata": {},
   "outputs": [],
   "source": [
    "\n",
    "\n",
    "# Check for MPS availability\n",
    "device = 0 if torch.backends.mps.is_available() else -1\n",
    "print(f\"Using device: {'MPS' if device == 0 else 'CPU'}\")\n",
    "\n",
    "# Initialize the zero-shot classifier with a suitable model\n",
    "classifier = pipeline(\n",
    "    \"zero-shot-classification\",\n",
    "    model=\"facebook/bart-large-mnli\",  # Choose lighter models if needed\n",
    "    device=device\n",
    ")\n",
    "\n",
    "\n",
    "# Define candidate labels\n",
    "classes = ['wine', 'beverage', 'meat', 'fruit', 'vegetable', 'bread', 'dairy', 'dessert', 'seafood']\n",
    "\n",
    "# Define threshold\n",
    "threshold = 0.6\n",
    "\n",
    "# Batch size for processing\n",
    "batch_size = 16\n",
    "\n",
    "# Prepare batches\n",
    "descriptions = df['full_description'].tolist()\n",
    "\n",
    "sample_range = range(0, len(descriptions), batch_size)\n",
    "\n",
    "batches = [descriptions[i:i + batch_size] for i in sample_range]\n",
    "\n",
    "predicted_classes = []\n",
    "\n",
    "for batch in tqdm(batches, desc=\"Classifying batches\"):\n",
    "    results = classifier(batch, classes, multi_label=True)\n",
    "    for result in results:\n",
    "        predicted = [label for label, score in zip(result['labels'], result['scores']) if score > threshold]\n",
    "        predicted_classes.append(predicted)\n",
    "\n",
    "df['predicted_classes'] = predicted_classes\n",
    "\n",
    "# Display the results\n",
    "print(df[['full_description', 'predicted_classes']])"
   ]
  },
  {
   "cell_type": "code",
   "execution_count": null,
   "metadata": {},
   "outputs": [],
   "source": [
    "\n",
    "certain_length = 5  # Example length\n",
    "filtered_df = df[df['predicted_classes'].apply(lambda x: len(x) > certain_length)]\n",
    "\n",
    "# Display the filtered results\n",
    "display(filtered_df[['full_description', 'predicted_classes']])"
   ]
  },
  {
   "cell_type": "code",
   "execution_count": null,
   "metadata": {},
   "outputs": [],
   "source": [
    "df.to_csv('data/predicted_classes.csv', index=False)"
   ]
  },
  {
   "cell_type": "code",
   "execution_count": null,
   "metadata": {},
   "outputs": [],
   "source": [
    "filtered_df.to_csv('data/filtered_predicted_classes.csv', index=False)"
   ]
  }
 ],
 "metadata": {
  "kernelspec": {
   "display_name": "torch",
   "language": "python",
   "name": "python3"
  },
  "language_info": {
   "codemirror_mode": {
    "name": "ipython",
    "version": 3
   },
   "file_extension": ".py",
   "mimetype": "text/x-python",
   "name": "python",
   "nbconvert_exporter": "python",
   "pygments_lexer": "ipython3",
   "version": "3.12.7"
  }
 },
 "nbformat": 4,
 "nbformat_minor": 2
}
