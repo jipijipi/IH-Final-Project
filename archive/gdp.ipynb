{
 "cells": [
  {
   "cell_type": "code",
   "execution_count": null,
   "metadata": {},
   "outputs": [],
   "source": [
    "import pandas as pd\n",
    "import os\n",
    "import requests\n",
    "\n",
    "url = 'https://dataverse.nl/api/access/datafile/421302'\n",
    "file_path = 'data/mpd2023_web.xlsx'\n",
    "\n",
    "if not os.path.exists(file_path):\n",
    "    response = requests.get(url)\n",
    "    with open(file_path, 'wb') as f:\n",
    "        f.write(response.content)\n",
    "\n",
    "# Load a specific sheet by name\n",
    "df = pd.read_excel('data/mpd2023_web.xlsx', sheet_name='Full data')\n",
    "df"
   ]
  },
  {
   "cell_type": "code",
   "execution_count": null,
   "metadata": {},
   "outputs": [],
   "source": [
    "df['decade'] = (df['year'] // 10) * 10\n",
    "# Grouping data by country and decade to calculate the average 'gdppc' and 'pop' for each group\n",
    "df_avg = df.groupby(['country', 'decade'])[['gdppc', 'pop']].mean().reset_index()\n",
    "\n",
    "# Displaying the resulting dataframe\n",
    "print(df_avg)\n"
   ]
  },
  {
   "cell_type": "code",
   "execution_count": null,
   "metadata": {},
   "outputs": [],
   "source": [
    "# Grouping data by just the 'decade' to calculate the average 'gdppc' and 'pop' for each decade\n",
    "df_avg_decades = df.groupby('decade')[['gdppc', 'pop']].mean().reset_index()\n",
    "display(df_avg_decades)\n",
    "df_avg_decades['gdppc'] = df_avg_decades['gdppc'].interpolate(method='polynomial', order=2)\n",
    "df_avg_decades['pop'] = df_avg_decades['pop'].interpolate(method='polynomial', order=2)\n",
    "df_avg_decades"
   ]
  },
  {
   "cell_type": "code",
   "execution_count": null,
   "metadata": {},
   "outputs": [],
   "source": [
    "df_avg_decades.to_csv('data/gdp_pop_decades.csv', index=False)"
   ]
  }
 ],
 "metadata": {
  "kernelspec": {
   "display_name": "base",
   "language": "python",
   "name": "python3"
  },
  "language_info": {
   "codemirror_mode": {
    "name": "ipython",
    "version": 3
   },
   "file_extension": ".py",
   "mimetype": "text/x-python",
   "name": "python",
   "nbconvert_exporter": "python",
   "pygments_lexer": "ipython3",
   "version": "3.12.4"
  }
 },
 "nbformat": 4,
 "nbformat_minor": 2
}
