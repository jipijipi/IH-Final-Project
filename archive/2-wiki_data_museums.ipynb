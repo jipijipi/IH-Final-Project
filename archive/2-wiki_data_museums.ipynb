{
 "cells": [
  {
   "cell_type": "markdown",
   "metadata": {},
   "source": [
    "# Food in Art"
   ]
  },
  {
   "cell_type": "code",
   "execution_count": null,
   "metadata": {},
   "outputs": [],
   "source": [
    "from SPARQLWrapper import SPARQLWrapper, JSON\n",
    "import pandas as pd\n",
    "import time"
   ]
  },
  {
   "cell_type": "code",
   "execution_count": null,
   "metadata": {},
   "outputs": [],
   "source": [
    "# Initialize SPARQL endpoint\n",
    "sparql = SPARQLWrapper(\"https://query.wikidata.org/sparql\")\n",
    "\n",
    "# List of museum names (replace with your actual list)\n",
    "data = pd.read_csv('data/wikidata_paintings_final.csv')\n",
    "museum_names = data['display_location'].unique().tolist()\n",
    "\n",
    "# Function to split the museum names list into smaller batches\n",
    "def batch(iterable, n=5):  # Smaller batch size (e.g., 5)\n",
    "    for i in range(0, len(iterable), n):\n",
    "        yield iterable[i:i + n]\n",
    "\n",
    "# Prepare an empty list to store results\n",
    "results_list = []\n",
    "\n",
    "# Function to query data for a batch of museum names\n",
    "def query_museum_data_batch(museum_batch):\n",
    "    names_filter = ' '.join(f'\"{name}\"@en' for name in museum_batch)\n",
    "    sparql.setQuery(f\"\"\"\n",
    "    SELECT ?museum ?museumLabel ?countryLabel ?locationLabel ?coordinates\n",
    "    WHERE {{\n",
    "      VALUES ?museumLabel {{ {names_filter} }}\n",
    "      ?museum rdfs:label ?museumLabel.\n",
    "      ?museum wdt:P31 wd:Q33506.\n",
    "      OPTIONAL {{ ?museum wdt:P17 ?country. }}\n",
    "      OPTIONAL {{ ?museum wdt:P131 ?location. }}\n",
    "      OPTIONAL {{ ?museum wdt:P625 ?coordinates. }}\n",
    "      SERVICE wikibase:label {{ bd:serviceParam wikibase:language \"[AUTO_LANGUAGE],en\". }}\n",
    "    }}\n",
    "    \"\"\")\n",
    "    sparql.setReturnFormat(JSON)\n",
    "    return sparql.query().convert()\n",
    "\n",
    "# Query each batch with error handling and retry logic\n",
    "for museum_batch in batch(museum_names, n=5):  # Smaller batches\n",
    "    retry_count = 0\n",
    "    while retry_count < 3:  # Retry up to 3 times\n",
    "        try:\n",
    "            data = query_museum_data_batch(museum_batch)\n",
    "            for item in data[\"results\"][\"bindings\"]:\n",
    "                results_list.append({\n",
    "                    \"museum\": item[\"museumLabel\"][\"value\"],\n",
    "                    \"country\": item.get(\"countryLabel\", {}).get(\"value\", None),\n",
    "                    \"location\": item.get(\"locationLabel\", {}).get(\"value\", None),\n",
    "                    \"coordinates\": item.get(\"coordinates\", {}).get(\"value\", None)\n",
    "                })\n",
    "            time.sleep(10)  # Increased delay between batches (10 seconds)\n",
    "            break  # Exit retry loop if successful\n",
    "        except Exception as e:\n",
    "            print(f\"Error with batch {museum_batch}: {e}\")\n",
    "            retry_count += 1\n",
    "            time.sleep(5 * retry_count)  # Exponential backoff: 5s, 10s, 15s\n",
    "\n",
    "# Convert results to a pandas DataFrame\n",
    "df = pd.DataFrame(results_list)\n",
    "\n",
    "# Display the DataFrame\n",
    "df.head()  # Adjust as needed to see more rows"
   ]
  },
  {
   "cell_type": "code",
   "execution_count": null,
   "metadata": {},
   "outputs": [],
   "source": [
    "df.drop_duplicates(subset='museum', keep='first', inplace=True)\n",
    "\n",
    "df.to_csv('data/wikidata_museums_final.csv', index=False)"
   ]
  }
 ],
 "metadata": {
  "kernelspec": {
   "display_name": "base",
   "language": "python",
   "name": "python3"
  },
  "language_info": {
   "codemirror_mode": {
    "name": "ipython",
    "version": 3
   },
   "file_extension": ".py",
   "mimetype": "text/x-python",
   "name": "python",
   "nbconvert_exporter": "python",
   "pygments_lexer": "ipython3",
   "version": "3.12.4"
  }
 },
 "nbformat": 4,
 "nbformat_minor": 2
}
