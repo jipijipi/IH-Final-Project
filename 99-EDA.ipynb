{
 "cells": [
  {
   "cell_type": "markdown",
   "metadata": {},
   "source": [
    "# Food in Art"
   ]
  },
  {
   "cell_type": "code",
   "execution_count": null,
   "metadata": {},
   "outputs": [],
   "source": [
    "import pandas as pd\n",
    "import plotly.express as px\n",
    "import plotly.graph_objects as go\n",
    "import yaml\n"
   ]
  },
  {
   "cell_type": "code",
   "execution_count": null,
   "metadata": {},
   "outputs": [],
   "source": [
    "\n",
    "\n",
    "def load_config(config_path: str) -> dict:\n",
    "    \"\"\"\n",
    "    Load configuration from YAML file.\n",
    "    \n",
    "    Args:\n",
    "        config_path: Path to YAML configuration file\n",
    "    \n",
    "    Returns:\n",
    "        Dictionary containing configuration settings\n",
    "    \"\"\"\n",
    "    with open(config_path, 'r') as file:\n",
    "        return yaml.safe_load(file)\n"
   ]
  },
  {
   "cell_type": "code",
   "execution_count": null,
   "metadata": {},
   "outputs": [],
   "source": [
    "\n",
    "def clean_datetime(series: pd.Series, value_type) -> pd.Series:\n",
    "    \"\"\"Convert series to datetime format.\"\"\"\n",
    "    series = pd.to_datetime(series, errors='coerce')\n",
    "    if value_type == 'year':\n",
    "        return pd.to_numeric(series.dt.year, downcast='integer', errors='coerce')\n",
    "    return series\n",
    "\n",
    "def clean_categorical(series: pd.Series, categories: Optional[List[str]] = None) -> pd.Series:\n",
    "    \"\"\"Convert series to categorical format with optional categories.\"\"\"\n",
    "    if categories:\n",
    "        return pd.Categorical(series, categories=categories, ordered=False )\n",
    "    return series.astype('category')\n",
    "\n",
    "\n",
    "def extract_wikidata_id(series: pd.Series) -> pd.Series:\n",
    "    \"\"\"Extract the Wikidata ID from a series of URLs.\"\"\"\n",
    "    return series.str.extract(r'(Q\\d+)', expand=False)\n",
    "\n"
   ]
  },
  {
   "cell_type": "code",
   "execution_count": null,
   "metadata": {},
   "outputs": [],
   "source": [
    "\n",
    "def process_column(series: pd.Series, dtype: str, value_type: str = None, categories: Optional[List[str]] = None) -> pd.Series:\n",
    "    \"\"\"\n",
    "    Process a single column according to its configuration.\n",
    "    \n",
    "    Args:\n",
    "        series: Column data to process\n",
    "        dtype: Target data type\n",
    "        categories: Optional list of categories for categorical data\n",
    "    \n",
    "    Returns:\n",
    "        Processed column data\n",
    "    \"\"\"\n",
    "    if value_type == 'wikidata_url':\n",
    "        return extract_wikidata_id(series)\n",
    "    \n",
    "    if dtype == 'datetime64[ns]':\n",
    "        return clean_datetime(series, value_type)\n",
    "    elif dtype == 'category':\n",
    "        return clean_categorical(series, categories)\n",
    "    else:\n",
    "        return series.astype(dtype)\n"
   ]
  },
  {
   "cell_type": "code",
   "execution_count": null,
   "metadata": {},
   "outputs": [],
   "source": [
    "\n",
    "def load_and_process_dataset(\n",
    "    source_path: str,\n",
    "    columns_config: dict\n",
    ") -> pd.DataFrame:\n",
    "    \"\"\"\n",
    "    Load and process a single dataset according to configuration.\n",
    "    \n",
    "    Args:\n",
    "        source_path: Path to source CSV file\n",
    "        columns_config: Configuration for columns\n",
    "        dataset_name: Name of the dataset for specific processing\n",
    "    \n",
    "    Returns:\n",
    "        Processed DataFrame\n",
    "    \"\"\"\n",
    "    # Load data\n",
    "    df = pd.read_csv(source_path)\n",
    "    \n",
    "    # Rename columns\n",
    "    column_mappings = {\n",
    "        config['original_name']: col_name\n",
    "        for col_name, config in columns_config.items()\n",
    "        if 'original_name' in config\n",
    "    }\n",
    "    df = df.rename(columns=column_mappings)\n",
    "    \n",
    "    # Select configured columns\n",
    "    df = df[list(columns_config.keys())]\n",
    "    \n",
    "    # Process each column\n",
    "    for column, config in columns_config.items():\n",
    "        df[column] = process_column(\n",
    "            df[column],\n",
    "            config['dtype'],\n",
    "            config.get('value_type'),\n",
    "            config.get('categories')\n",
    "        )\n",
    "    \n",
    "    # Set index if specified\n",
    "    for column, config in columns_config.items():\n",
    "        if config.get('is_index', False):\n",
    "            df = df.drop_duplicates(subset=column, keep='first')\n",
    "            #df = df.set_index(column)\n",
    "    \n",
    "    return df\n",
    "\n",
    "def load_all_datasets(config: dict) -> Dict[str, pd.DataFrame]:\n",
    "    \"\"\"\n",
    "    Load and process all datasets defined in configuration.\n",
    "    \n",
    "    Args:\n",
    "        config: Configuration dict\n",
    "    \n",
    "    Returns:\n",
    "        Dictionary of processed DataFrames\n",
    "    \"\"\"\n",
    "    \n",
    "    return {\n",
    "        dataset_name: load_and_process_dataset(\n",
    "            dataset_config['source'],\n",
    "            dataset_config['columns']\n",
    "        )\n",
    "        for dataset_name, dataset_config in config.items()\n",
    "    }\n"
   ]
  },
  {
   "cell_type": "code",
   "execution_count": null,
   "metadata": {},
   "outputs": [],
   "source": [
    "# Load configuration from YAML file\n",
    "config = load_config('config.yaml')\n"
   ]
  },
  {
   "cell_type": "markdown",
   "metadata": {},
   "source": [
    "### Loading"
   ]
  },
  {
   "cell_type": "code",
   "execution_count": null,
   "metadata": {},
   "outputs": [],
   "source": [
    "all_data = load_all_datasets(config)"
   ]
  },
  {
   "cell_type": "markdown",
   "metadata": {},
   "source": [
    "#### Load correspondance table"
   ]
  },
  {
   "cell_type": "code",
   "execution_count": null,
   "metadata": {},
   "outputs": [],
   "source": [
    "correspondance_data = all_data['ids']\n",
    "correspondance_data.drop_duplicates(inplace=True)\n",
    "correspondance_data"
   ]
  },
  {
   "cell_type": "markdown",
   "metadata": {},
   "source": [
    "#### Load paintings data"
   ]
  },
  {
   "cell_type": "code",
   "execution_count": null,
   "metadata": {},
   "outputs": [],
   "source": [
    "paintings_data = all_data['paintings']\n",
    "paintings_data"
   ]
  },
  {
   "cell_type": "markdown",
   "metadata": {},
   "source": [
    "#### Load locations data"
   ]
  },
  {
   "cell_type": "code",
   "execution_count": null,
   "metadata": {},
   "outputs": [],
   "source": [
    "locations_data = all_data['locations']\n",
    "locations_data"
   ]
  },
  {
   "cell_type": "markdown",
   "metadata": {},
   "source": [
    "#### Load authors data"
   ]
  },
  {
   "cell_type": "code",
   "execution_count": null,
   "metadata": {},
   "outputs": [],
   "source": [
    "authors_data = all_data['authors']\n",
    "authors_data"
   ]
  },
  {
   "cell_type": "markdown",
   "metadata": {},
   "source": [
    "### Merging"
   ]
  },
  {
   "cell_type": "code",
   "execution_count": null,
   "metadata": {},
   "outputs": [],
   "source": [
    "df = correspondance_data.merge(paintings_data, on='painting_id', how='inner')\n",
    "df = df.merge(authors_data, on='author_id', how='left')\n",
    "df = df.merge(locations_data, on='location_id', how='left')\n",
    "df"
   ]
  },
  {
   "cell_type": "code",
   "execution_count": null,
   "metadata": {},
   "outputs": [],
   "source": [
    "df = df[df['contains_food']]\n",
    "df.info()"
   ]
  },
  {
   "cell_type": "code",
   "execution_count": null,
   "metadata": {},
   "outputs": [],
   "source": [
    "df['creation_date'].describe()\n"
   ]
  },
  {
   "cell_type": "markdown",
   "metadata": {},
   "source": [
    "### Visualisations"
   ]
  },
  {
   "cell_type": "code",
   "execution_count": null,
   "metadata": {},
   "outputs": [],
   "source": [
    "# Count paintings per author country\n",
    "paintings_per_country = df['author_country'].value_counts().reset_index()\n",
    "paintings_per_country.columns = ['Author Country', 'Number of Paintings']\n",
    "\n",
    "# Create bar chart\n",
    "fig1 = px.bar(paintings_per_country, \n",
    "              x='Author Country', \n",
    "              y='Number of Paintings',\n",
    "              title='Number of Paintings per Author Country',\n",
    "              labels={'Author Country': 'Country', 'Number of Paintings': 'Paintings'})\n",
    "fig1.show()"
   ]
  },
  {
   "cell_type": "code",
   "execution_count": null,
   "metadata": {},
   "outputs": [],
   "source": [
    "# Count authors by gender\n",
    "gender_counts = df['gender'].value_counts().reset_index()\n",
    "gender_counts.columns = ['Gender', 'Count']\n",
    "\n",
    "# Create pie chart\n",
    "fig2 = px.pie(gender_counts, \n",
    "             names='Gender', \n",
    "             values='Count',\n",
    "             title='Gender Distribution of Authors',\n",
    "             hole=0.3)\n",
    "fig2.show()"
   ]
  },
  {
   "cell_type": "code",
   "execution_count": null,
   "metadata": {},
   "outputs": [],
   "source": [
    "\"\"\" # Drop rows with missing values in 'title' column\n",
    "df = df.dropna(subset=['title', 'creation_date'])\n",
    "\n",
    "# Sample 100 random rows from the DataFrame\n",
    "df_subset = df.sample(n=100, random_state=42)  # Use `n` to specify the number of rows you want in the subset\n",
    "\n",
    "# Alternatively, if you want a percentage-based sample (e.g., 10% of the data)\n",
    "df_subset = df.sample(frac=0.1, random_state=42)  # `frac` is the fraction of rows to sample\n",
    "\n",
    "# Now, you can create the plot with this subset\n",
    "fig3 = px.scatter(df_subset, \n",
    "                  x='creation_date', \n",
    "                  y='title',\n",
    "                  title='Timeline of Paintings Creation Dates (Random Subset)',\n",
    "                  labels={'creation_date': 'Creation Date', 'title': 'Painting Title'},\n",
    "                  hover_data=['author_name'])\n",
    "fig3.update_yaxes(autorange=\"reversed\")  # Optional: To display earliest at top\n",
    "fig3.show() \"\"\""
   ]
  },
  {
   "cell_type": "code",
   "execution_count": null,
   "metadata": {},
   "outputs": [],
   "source": [
    "# Extract latitude and longitude from coordinates\n",
    "df[['Longitude', 'Latitude']] = df['coordinates'].str.extract(r'Point\\(([-\\d.]+) ([-\\d.]+)\\)', expand=True).astype(float)\n",
    "\n",
    "# Create map\n",
    "fig4 = px.scatter_geo(df,\n",
    "                      lat='Latitude',\n",
    "                      lon='Longitude',\n",
    "                      hover_name='location_name',\n",
    "                      hover_data={'Latitude': False, 'Longitude': False},\n",
    "                      title='Geographical Distribution of Painting Locations',\n",
    "                      projection='natural earth')\n",
    "fig4.show()"
   ]
  },
  {
   "cell_type": "code",
   "execution_count": null,
   "metadata": {},
   "outputs": [],
   "source": [
    "\"\"\" # Ensure 'author_name' column contains only scalar values\n",
    "df['author_name'] = df['author_name'].apply(lambda x: x if isinstance(x, str) else str(x))\n",
    "\n",
    "# Count paintings per author\n",
    "paintings_per_author = df['author_name'].value_counts().head(10).reset_index()\n",
    "paintings_per_author.columns = ['Author Name', 'Number of Paintings']\n",
    "\n",
    "# Create horizontal bar chart\n",
    "fig5 = px.bar(paintings_per_author.sort_values('Number of Paintings'),\n",
    "             x='Number of Paintings',\n",
    "             y='Author Name',\n",
    "             orientation='h',\n",
    "             title='Top 10 Authors by Number of Paintings',\n",
    "             labels={'Number of Paintings': 'Paintings', 'Author Name': 'Author'})\n",
    "fig5.show() \"\"\""
   ]
  },
  {
   "cell_type": "code",
   "execution_count": null,
   "metadata": {},
   "outputs": [],
   "source": [
    "# Count paintings with and without food\n",
    "food_counts = df['contains_food'].value_counts().reset_index()\n",
    "food_counts.columns = ['Contains Food', 'Count']\n",
    "food_counts['Contains Food'] = food_counts['Contains Food'].map({True: 'Contains Food', False: 'No Food'})\n",
    "\n",
    "# Create donut chart\n",
    "fig6 = px.pie(food_counts, \n",
    "             names='Contains Food', \n",
    "             values='Count',\n",
    "             title='Paintings Containing Food vs. Not Containing Food',\n",
    "             hole=0.4)\n",
    "fig6.show()"
   ]
  },
  {
   "cell_type": "code",
   "execution_count": null,
   "metadata": {},
   "outputs": [],
   "source": [
    "from collections import Counter\n",
    "import itertools\n",
    "\n",
    "# Split the strings into individual words\n",
    "all_food_words = list(itertools.chain.from_iterable(df['food_words'].dropna().apply(lambda x: x.strip(\"[]\").replace(\"'\", \"\").split(\", \"))))\n",
    "food_counter = Counter(all_food_words).most_common()\n",
    "\n",
    "# Create dataframe for plotting\n",
    "food_df = pd.DataFrame(food_counter, columns=['Food Item', 'Frequency'])\n",
    "\n",
    "# Create bar chart\n",
    "fig7 = px.bar(food_df, \n",
    "             x='Food Item', \n",
    "             y='Frequency',\n",
    "             title='Frequency of Different Food Items in Paintings',\n",
    "             labels={'Food Item': 'Food Item', 'Frequency': 'Count'})\n",
    "fig7.show()"
   ]
  },
  {
   "cell_type": "code",
   "execution_count": null,
   "metadata": {},
   "outputs": [],
   "source": [
    "\"\"\" \n",
    "\n",
    "# Drop rows with missing data\n",
    "scatter_df = df.dropna(subset=['date_of_birth', 'creation_year'])\n",
    "\n",
    "# Create scatter plot\n",
    "fig8 = px.scatter(scatter_df, \n",
    "                  x='date_of_birth', \n",
    "                  y='creation_year',\n",
    "                  trendline='ols',\n",
    "                  title=\"Authors' Birth Years vs. Painting Creation Years\",\n",
    "                  labels={'date_of_birth': 'Author Birth Year', 'creation_year': 'Creation Year'},\n",
    "                  hover_data=['author_name', 'title'])\n",
    "fig8.show() \"\"\""
   ]
  },
  {
   "cell_type": "code",
   "execution_count": null,
   "metadata": {},
   "outputs": [],
   "source": [
    "# Select a very small subset for testing\n",
    "# Drop rows with missing data\n",
    "scatter_df = df.dropna(subset=['date_of_birth', 'creation_date'])\n",
    "df_subset = scatter_df[['creation_date', 'title']].head(100)\n",
    "fig3 = px.scatter(df_subset, \n",
    "                  x='creation_date', \n",
    "                  y='title',\n",
    "                  title='Test Plot of Paintings Creation Dates')\n",
    "fig3.show()"
   ]
  },
  {
   "cell_type": "code",
   "execution_count": null,
   "metadata": {},
   "outputs": [],
   "source": [
    "# Count paintings per location country\n",
    "paintings_per_location_country = df['location_country'].value_counts().reset_index()\n",
    "paintings_per_location_country.columns = ['Location Country', 'Number of Paintings']\n",
    "\n",
    "# Create treemap\n",
    "fig9 = px.treemap(paintings_per_location_country, \n",
    "                 path=['Location Country'], \n",
    "                 values='Number of Paintings',\n",
    "                 title='Distribution of Paintings by Location Country')\n",
    "fig9.show()"
   ]
  },
  {
   "cell_type": "code",
   "execution_count": null,
   "metadata": {},
   "outputs": [],
   "source": [
    "# Ensure there are no missing values in hover_data columns\n",
    "gallery = df[['creation_date', 'title', 'author_name', 'location_name', 'food_words']].dropna().head(10)\n",
    "\n",
    "fig10 = px.scatter(gallery, \n",
    "                   x='creation_date', \n",
    "                   y='title',\n",
    "                   hover_data=['author_name', 'location_name', 'food_words'],\n",
    "                   title='Interactive Gallery of Paintings',\n",
    "                   labels={'creation_date': 'Creation Date', 'title': 'Painting Title'},\n",
    "                   template='plotly_white')\n",
    "\n",
    "# Add images as hover\n",
    "fig10.update_traces(marker=dict(size=12,\n",
    "                                 color='LightSkyBlue'),\n",
    "                   selector=dict(mode='markers'))\n",
    "\n",
    "fig10.update_layout(\n",
    "    hovermode='closest'\n",
    ")\n",
    "\n",
    "fig10.show()"
   ]
  }
 ],
 "metadata": {
  "kernelspec": {
   "display_name": "base",
   "language": "python",
   "name": "python3"
  },
  "language_info": {
   "codemirror_mode": {
    "name": "ipython",
    "version": 3
   },
   "file_extension": ".py",
   "mimetype": "text/x-python",
   "name": "python",
   "nbconvert_exporter": "python",
   "pygments_lexer": "ipython3",
   "version": "3.12.4"
  }
 },
 "nbformat": 4,
 "nbformat_minor": 2
}
