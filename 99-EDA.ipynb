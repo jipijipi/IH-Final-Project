{
 "cells": [
  {
   "cell_type": "markdown",
   "metadata": {},
   "source": [
    "# Food in Art"
   ]
  },
  {
   "cell_type": "code",
   "execution_count": null,
   "metadata": {},
   "outputs": [],
   "source": [
    "import pandas as pd\n",
    "import plotly.express as px\n",
    "import plotly.graph_objects as go\n",
    "import yaml\n",
    "import numpy as np\n",
    "from urllib.parse import urlparse, parse_qs, quote\n",
    "\n"
   ]
  },
  {
   "cell_type": "markdown",
   "metadata": {},
   "source": [
    "- what is food\n",
    "- "
   ]
  },
  {
   "cell_type": "code",
   "execution_count": null,
   "metadata": {},
   "outputs": [],
   "source": [
    "#time consuming : \n",
    "#get time periods\n",
    "#deal with missing data\n",
    "#dl more images\n",
    "#retrain clip"
   ]
  },
  {
   "cell_type": "code",
   "execution_count": null,
   "metadata": {},
   "outputs": [],
   "source": [
    "#TODO: #get time periods + decades\n",
    "#TODO: don't convert year on load\n",
    "#TODO: calculate proportions\n",
    "#TODO: retrain CLiP for recognition of the new data"
   ]
  },
  {
   "cell_type": "markdown",
   "metadata": {},
   "source": [
    "## Functions"
   ]
  },
  {
   "cell_type": "code",
   "execution_count": null,
   "metadata": {},
   "outputs": [],
   "source": [
    "\n",
    "\n",
    "def load_config(config_path: str) -> dict:\n",
    "    \"\"\"\n",
    "    Load configuration from YAML file.\n",
    "    \n",
    "    Args:\n",
    "        config_path: Path to YAML configuration file\n",
    "    \n",
    "    Returns:\n",
    "        Dictionary containing configuration settings\n",
    "    \"\"\"\n",
    "    with open(config_path, 'r') as file:\n",
    "        return yaml.safe_load(file)\n"
   ]
  },
  {
   "cell_type": "code",
   "execution_count": null,
   "metadata": {},
   "outputs": [],
   "source": [
    "\n",
    "def clean_datetime(series: pd.Series, value_type) -> pd.Series:\n",
    "    \"\"\"Convert series to datetime format.\"\"\"\n",
    "    series = pd.to_datetime(series, errors='coerce')\n",
    "    if value_type == 'year':\n",
    "        return pd.to_numeric(series.dt.year, downcast='integer', errors='coerce')\n",
    "    return series\n",
    "\n",
    "def clean_categorical(series: pd.Series, categories = None) -> pd.Series:\n",
    "    \"\"\"Convert series to categorical format with optional categories.\"\"\"\n",
    "    if categories:\n",
    "        return pd.Categorical(series, categories=categories, ordered=False )\n",
    "    return series.astype('category')\n",
    "\n",
    "\n",
    "def extract_wikidata_id(series: pd.Series) -> pd.Series:\n",
    "    \"\"\"Extract the Wikidata ID from a series of URLs.\"\"\"\n",
    "    return series.str.extract(r'(Q\\d+)', expand=False)\n",
    "\n"
   ]
  },
  {
   "cell_type": "code",
   "execution_count": null,
   "metadata": {},
   "outputs": [],
   "source": [
    "\n",
    "def process_column(series: pd.Series, dtype: str, value_type: str = None, categories = None) -> pd.Series:\n",
    "    \"\"\"\n",
    "    Process a single column according to its configuration.\n",
    "    \n",
    "    Args:\n",
    "        series: Column data to process\n",
    "        dtype: Target data type\n",
    "        categories: Optional list of categories for categorical data\n",
    "    \n",
    "    Returns:\n",
    "        Processed column data\n",
    "    \"\"\"\n",
    "    if value_type == 'wikidata_url':\n",
    "        return extract_wikidata_id(series)\n",
    "    \n",
    "    if dtype == 'datetime64[ns]':\n",
    "        return clean_datetime(series, value_type)\n",
    "    elif dtype == 'category':\n",
    "        return clean_categorical(series, categories)\n",
    "    else:\n",
    "        return series.astype(dtype)\n"
   ]
  },
  {
   "cell_type": "code",
   "execution_count": null,
   "metadata": {},
   "outputs": [],
   "source": [
    "\n",
    "def load_and_process_dataset(\n",
    "    source_path: str,\n",
    "    columns_config: dict\n",
    ") -> pd.DataFrame:\n",
    "    \"\"\"\n",
    "    Load and process a single dataset according to configuration.\n",
    "    \n",
    "    Args:\n",
    "        source_path: Path to source CSV file\n",
    "        columns_config: Configuration for columns\n",
    "        dataset_name: Name of the dataset for specific processing\n",
    "    \n",
    "    Returns:\n",
    "        Processed DataFrame\n",
    "    \"\"\"\n",
    "    # Load data\n",
    "    df = pd.read_csv(source_path)\n",
    "    \n",
    "    # Rename columns\n",
    "    column_mappings = {\n",
    "        config['original_name']: col_name\n",
    "        for col_name, config in columns_config.items()\n",
    "        if 'original_name' in config\n",
    "    }\n",
    "    df = df.rename(columns=column_mappings)\n",
    "    \n",
    "    # Select configured columns\n",
    "    df = df[list(columns_config.keys())]\n",
    "    \n",
    "    # Process each column\n",
    "    for column, config in columns_config.items():\n",
    "        df[column] = process_column(\n",
    "            df[column],\n",
    "            config['dtype'],\n",
    "            config.get('value_type'),\n",
    "            config.get('categories')\n",
    "        )\n",
    "    \n",
    "    # Set index if specified\n",
    "    for column, config in columns_config.items():\n",
    "        if config.get('is_index', False):\n",
    "            df = df.drop_duplicates(subset=column, keep='first')\n",
    "            #df = df.set_index(column)\n",
    "    \n",
    "    return df\n",
    "\n",
    "def load_all_datasets(config: dict) -> dict:\n",
    "    \"\"\"\n",
    "    Load and process all datasets defined in configuration.\n",
    "    \n",
    "    Args:\n",
    "        config: Configuration dict\n",
    "    \n",
    "    Returns:\n",
    "        Dictionary of processed DataFrames\n",
    "    \"\"\"\n",
    "    \n",
    "    return {\n",
    "        dataset_name: load_and_process_dataset(\n",
    "            dataset_config['source'],\n",
    "            dataset_config['columns']\n",
    "        )\n",
    "        for dataset_name, dataset_config in config.items()\n",
    "    }\n"
   ]
  },
  {
   "cell_type": "code",
   "execution_count": null,
   "metadata": {},
   "outputs": [],
   "source": [
    "def get_512px_thumbnail(url):\n",
    "    \"\"\"\n",
    "    Transform a Wikimedia Commons Special:FilePath URL into its 512px thumbnail version.\n",
    "    \n",
    "    Args:\n",
    "        url (str): URL in format: http://commons.wikimedia.org/wiki/Special:FilePath/Filename.jpg\n",
    "        \n",
    "    Returns:\n",
    "        str: The 512px thumbnail URL or None if the URL is null\n",
    "    \n",
    "    \"\"\"\n",
    "    if not url:\n",
    "        return None\n",
    "    \n",
    "    # Extract the filename from the URL\n",
    "    filename = url.split('/')[-1]\n",
    "    \n",
    "    # Construct the 512px thumbnail URL\n",
    "    thumbnail_url = f\"https://commons.wikimedia.org/w/index.php?title=Special:Redirect/file/{filename}&width=512\"\n",
    "    \n",
    "    return thumbnail_url"
   ]
  },
  {
   "cell_type": "markdown",
   "metadata": {},
   "source": [
    "## Loading"
   ]
  },
  {
   "cell_type": "code",
   "execution_count": null,
   "metadata": {},
   "outputs": [],
   "source": [
    "# Load configuration from YAML file\n",
    "config = load_config('config.yaml')\n"
   ]
  },
  {
   "cell_type": "code",
   "execution_count": null,
   "metadata": {},
   "outputs": [],
   "source": [
    "all_data = load_all_datasets(config)"
   ]
  },
  {
   "cell_type": "markdown",
   "metadata": {},
   "source": [
    "#### Load correspondance table"
   ]
  },
  {
   "cell_type": "code",
   "execution_count": null,
   "metadata": {},
   "outputs": [],
   "source": [
    "correspondance_data = all_data['ids']\n",
    "correspondance_data.drop_duplicates(inplace=True)\n",
    "correspondance_data"
   ]
  },
  {
   "cell_type": "markdown",
   "metadata": {},
   "source": [
    "#### Load paintings data"
   ]
  },
  {
   "cell_type": "code",
   "execution_count": null,
   "metadata": {},
   "outputs": [],
   "source": [
    "paintings_data = all_data['paintings']\n",
    "paintings_data['image_url'] = paintings_data['image_url'].apply(lambda x: get_512px_thumbnail(x) if pd.notna(x) else x)\n",
    "paintings_data"
   ]
  },
  {
   "cell_type": "markdown",
   "metadata": {},
   "source": [
    "#### Load locations data"
   ]
  },
  {
   "cell_type": "code",
   "execution_count": null,
   "metadata": {},
   "outputs": [],
   "source": [
    "locations_data = all_data['locations']\n",
    "locations_data"
   ]
  },
  {
   "cell_type": "markdown",
   "metadata": {},
   "source": [
    "#### Load authors data"
   ]
  },
  {
   "cell_type": "code",
   "execution_count": null,
   "metadata": {},
   "outputs": [],
   "source": [
    "authors_data = all_data['authors']\n",
    "authors_data"
   ]
  },
  {
   "cell_type": "markdown",
   "metadata": {},
   "source": [
    "#### Load ML food data"
   ]
  },
  {
   "cell_type": "code",
   "execution_count": null,
   "metadata": {},
   "outputs": [],
   "source": [
    "food_words = all_data['food_words']\n",
    "food_words['food_word_detected'] = food_words.select_dtypes(include='int').sum(axis=1) > 0\n",
    "food_words"
   ]
  },
  {
   "cell_type": "code",
   "execution_count": null,
   "metadata": {},
   "outputs": [],
   "source": [
    "food_found = all_data['food_found']\n",
    "food_found['food_image_detected'] = food_found['predictions'].apply(lambda x: len(x) > 3)\n",
    "food_found"
   ]
  },
  {
   "cell_type": "markdown",
   "metadata": {},
   "source": [
    "### Merging"
   ]
  },
  {
   "cell_type": "code",
   "execution_count": null,
   "metadata": {},
   "outputs": [],
   "source": [
    "merged_df = correspondance_data.merge(paintings_data, on='painting_id', how='inner')\n",
    "merged_df = merged_df.merge(authors_data, on='author_id', how='left')\n",
    "merged_df = merged_df.merge(locations_data, on='location_id', how='left')\n",
    "merged_df = merged_df.merge(food_words, on='painting_id', how='left')\n",
    "merged_df = merged_df.merge(food_found, on='painting_id', how='left')\n",
    "merged_df"
   ]
  },
  {
   "cell_type": "markdown",
   "metadata": {},
   "source": [
    "### Cleaning"
   ]
  },
  {
   "cell_type": "markdown",
   "metadata": {},
   "source": [
    "### Duplicates"
   ]
  },
  {
   "cell_type": "code",
   "execution_count": null,
   "metadata": {},
   "outputs": [],
   "source": [
    "merged_df = merged_df.drop_duplicates(subset='painting_id', keep='first')"
   ]
  },
  {
   "cell_type": "markdown",
   "metadata": {},
   "source": [
    "### Merging"
   ]
  },
  {
   "cell_type": "code",
   "execution_count": null,
   "metadata": {},
   "outputs": [],
   "source": [
    "merged_df['food_detected'] = (merged_df['food_word_detected'] | merged_df['food_image_detected']).astype(int)\n",
    "merged_df"
   ]
  },
  {
   "cell_type": "markdown",
   "metadata": {},
   "source": [
    "### Pruning"
   ]
  },
  {
   "cell_type": "code",
   "execution_count": null,
   "metadata": {},
   "outputs": [],
   "source": [
    "merged_df = merged_df[merged_df['image_path'].notna()]"
   ]
  },
  {
   "cell_type": "code",
   "execution_count": null,
   "metadata": {},
   "outputs": [],
   "source": [
    "# Fill missing creation year when possible\n",
    "# Calculate the age of the painter at the time of painting\n",
    "merged_df['painter_age_at_painting'] = merged_df['creation_date'] - merged_df['date_of_birth']\n",
    "\n",
    "# Display the updated DataFrame\n",
    "display(merged_df[['painter', 'creation_date', 'date_of_birth', 'painter_age_at_painting']])\n",
    "\n",
    "# Calculate the average painter_age_at_painting for each painter\n",
    "avg_painter_age = merged_df['painter_age_at_painting'].mean().astype(int)\n",
    "\n",
    "merged_df['painter_age_at_painting'].fillna(avg_painter_age, inplace=True)\n",
    "#merged_df.dropna(subset=['creation_date', 'date_of_birth'], how='all', inplace=True)\n",
    "\n",
    "merged_df['creation_date'].fillna(merged_df['date_of_birth'] + merged_df['painter_age_at_painting'], inplace=True)\n",
    "\n",
    "display(merged_df[['painter', 'creation_date', 'date_of_birth', 'painter_age_at_painting']])\n",
    "print(merged_df['creation_date'].max())\n",
    "\n"
   ]
  },
  {
   "cell_type": "markdown",
   "metadata": {},
   "source": [
    "## FINAL DF"
   ]
  },
  {
   "cell_type": "code",
   "execution_count": null,
   "metadata": {},
   "outputs": [],
   "source": [
    "#export for clip\n",
    "clip_train = merged_df[['painting_id','image_path', 'food_word_detected']]\n",
    "clip_train = clip_train[clip_train['food_word_detected'] == 1]\n",
    "clip_train"
   ]
  },
  {
   "cell_type": "code",
   "execution_count": null,
   "metadata": {},
   "outputs": [],
   "source": [
    "paintings_with_food = merged_df[merged_df['image_url'].isna() == False]\n",
    "paintings_with_food = paintings_with_food[['title', 'painter', 'creation_date', 'author_gender', 'author_country', 'location_name', 'location_country', 'time_period', 'image_path', 'image_url', 'coordinates','food_detected']]\n",
    "paintings_with_food"
   ]
  },
  {
   "cell_type": "markdown",
   "metadata": {},
   "source": [
    "## Export"
   ]
  },
  {
   "cell_type": "code",
   "execution_count": null,
   "metadata": {},
   "outputs": [],
   "source": [
    "paintings_with_food.to_csv('data/paintings_with_food.csv', index=False)"
   ]
  },
  {
   "cell_type": "markdown",
   "metadata": {},
   "source": [
    "## Exploration"
   ]
  },
  {
   "cell_type": "code",
   "execution_count": null,
   "metadata": {},
   "outputs": [],
   "source": [
    "print(paintings_with_food.value_counts())\n",
    "print(merged_df['image_path'].count())"
   ]
  },
  {
   "cell_type": "markdown",
   "metadata": {},
   "source": [
    "### Viz"
   ]
  },
  {
   "cell_type": "markdown",
   "metadata": {},
   "source": [
    "#### Countries"
   ]
  },
  {
   "cell_type": "code",
   "execution_count": null,
   "metadata": {},
   "outputs": [],
   "source": [
    "paintings_with_food"
   ]
  },
  {
   "cell_type": "code",
   "execution_count": null,
   "metadata": {},
   "outputs": [],
   "source": [
    "merged_df = merged_df.dropna()\n"
   ]
  },
  {
   "cell_type": "code",
   "execution_count": null,
   "metadata": {},
   "outputs": [],
   "source": [
    "df = merged_df[merged_df['food_detected'] == True]\n",
    "df.info()"
   ]
  },
  {
   "cell_type": "code",
   "execution_count": null,
   "metadata": {},
   "outputs": [],
   "source": [
    "merged_df"
   ]
  },
  {
   "cell_type": "markdown",
   "metadata": {},
   "source": [
    "### Visualisations"
   ]
  },
  {
   "cell_type": "code",
   "execution_count": null,
   "metadata": {},
   "outputs": [],
   "source": [
    "# Count paintings per author country\n",
    "paintings_per_country = paintings_with_food['author_country'].value_counts().reset_index()\n",
    "paintings_per_country.columns = ['Author Country', 'Number of Paintings']\n",
    "\n",
    "# Create bar chart\n",
    "fig1 = px.bar(paintings_per_country, \n",
    "              x='Author Country', \n",
    "              y='Number of Paintings',\n",
    "              title='Number of Paintings per Author Country',\n",
    "              labels={'Author Country': 'Country', 'Number of Paintings': 'Paintings'})\n",
    "fig1.show()"
   ]
  },
  {
   "cell_type": "code",
   "execution_count": null,
   "metadata": {},
   "outputs": [],
   "source": [
    "# Count authors by gender\n",
    "gender_counts = paintings_with_food['author_gender'].value_counts().reset_index()\n",
    "gender_counts.columns = ['Gender', 'Count']\n",
    "\n",
    "# Create pie chart\n",
    "fig2 = px.pie(gender_counts, \n",
    "             names='Gender', \n",
    "             values='Count',\n",
    "             title='Gender Distribution of Authors',\n",
    "             hole=0.3)\n",
    "fig2.show()"
   ]
  },
  {
   "cell_type": "code",
   "execution_count": null,
   "metadata": {},
   "outputs": [],
   "source": [
    "# Drop rows with missing values in 'title' column\n",
    "paintings_with_food = paintings_with_food.dropna(subset=['title', 'creation_date'])\n",
    "\n",
    "# Sample 100 random rows from the DataFrame\n",
    "df_subset = paintings_with_food.sample(n=100, random_state=42)  # Use `n` to specify the number of rows you want in the subset\n",
    "\n",
    "# Alternatively, if you want a percentage-based sample (e.g., 10% of the data)\n",
    "df_subset = paintings_with_food.sample(frac=0.1, random_state=42)  # `frac` is the fraction of rows to sample\n",
    "\n",
    "# Now, you can create the plot with this subset\n",
    "fig3 = px.scatter(df_subset, \n",
    "                  x='creation_date', \n",
    "                  y='title',\n",
    "                  #title='Timeline of Paintings Creation Dates (Random Subset)',\n",
    "                  #labels={'creation_date': 'Creation Date', 'title': 'Painting Title'},\n",
    "                  #hover_data=['author_name']\n",
    "                  )\n",
    "fig3.update_yaxes(autorange=\"reversed\")  # Optional: To display earliest at top\n",
    "fig3.show()"
   ]
  },
  {
   "cell_type": "code",
   "execution_count": null,
   "metadata": {},
   "outputs": [],
   "source": [
    "# Extract latitude and longitude from coordinates\n",
    "paintings_with_food[['Longitude', 'Latitude']] = paintings_with_food['coordinates'].str.extract(r'Point\\(([-\\d.]+) ([-\\d.]+)\\)', expand=True).astype(float)\n",
    "\n",
    "# Create map\n",
    "fig4 = px.scatter_geo(paintings_with_food,\n",
    "                      lat='Latitude',\n",
    "                      lon='Longitude',\n",
    "                      hover_name='location_name',\n",
    "                      hover_data={'Latitude': False, 'Longitude': False},\n",
    "                      title='Geographical Distribution of Painting Locations',\n",
    "                      projection='natural earth')\n",
    "fig4.show()"
   ]
  },
  {
   "cell_type": "code",
   "execution_count": null,
   "metadata": {},
   "outputs": [],
   "source": [
    "paintings_with_food"
   ]
  },
  {
   "cell_type": "code",
   "execution_count": null,
   "metadata": {},
   "outputs": [],
   "source": [
    "\n",
    "\n",
    "# Count paintings per author\n",
    "paintings_per_author = paintings_with_food['painter'].value_counts().head(10).reset_index()\n",
    "paintings_per_author.columns = ['Painter', 'Number of Paintings']\n",
    "\n",
    "# Create horizontal bar chart\n",
    "fig5 = px.bar(paintings_per_author.sort_values('Number of Paintings'),\n",
    "             x='Number of Paintings',\n",
    "             y='Painter',\n",
    "             orientation='h',\n",
    "             #title='Top 10 Authors by Number of Paintings',\n",
    "             #labels={'Number of Paintings': 'Paintings', 'Painter': 'Author'}\n",
    "             )\n",
    "fig5.show()"
   ]
  },
  {
   "cell_type": "code",
   "execution_count": null,
   "metadata": {},
   "outputs": [],
   "source": [
    "# Count paintings with and without food\n",
    "food_counts = merged_df['food_detected'].value_counts().reset_index()\n",
    "food_counts.columns = ['food_detected', 'Count']\n",
    "food_counts['food_detected'] = food_counts['food_detected'].map({True: 'Contains Food', False: 'No Food'})\n",
    "\n",
    "# Create donut chart\n",
    "fig6 = px.pie(food_counts, \n",
    "             names='Contains Food', \n",
    "             values='Count',\n",
    "             title='Paintings Containing Food vs. Not Containing Food',\n",
    "             hole=0.4)\n",
    "fig6.show()"
   ]
  },
  {
   "cell_type": "code",
   "execution_count": null,
   "metadata": {},
   "outputs": [],
   "source": [
    "from collections import Counter\n",
    "import itertools\n",
    "\n",
    "# Split the strings into individual words\n",
    "all_food_words = list(itertools.chain.from_iterable(df['food_words'].dropna().apply(lambda x: x.strip(\"[]\").replace(\"'\", \"\").split(\", \"))))\n",
    "food_counter = Counter(all_food_words).most_common(10)\n",
    "\n",
    "# Create dataframe for plotting\n",
    "food_df = pd.DataFrame(food_counter, columns=['Food Item', 'Frequency'])\n",
    "\n",
    "# Create bar chart\n",
    "fig7 = px.bar(food_df, \n",
    "             x='Food Item', \n",
    "             y='Frequency',\n",
    "             title='Frequency of Different Food Items in Paintings',\n",
    "             labels={'Food Item': 'Food Item', 'Frequency': 'Count'})\n",
    "fig7.show()"
   ]
  },
  {
   "cell_type": "code",
   "execution_count": null,
   "metadata": {},
   "outputs": [],
   "source": [
    "# Drop rows with missing data\n",
    "scatter_df = df.dropna(subset=['date_of_birth', 'creation_date'])\n",
    "\n",
    "# Create scatter plot\n",
    "fig8 = px.scatter(scatter_df, \n",
    "                  x='date_of_birth', \n",
    "                  y='creation_date',\n",
    "                  trendline='ols',\n",
    "                  title=\"Authors' Birth Years vs. Painting Creation Years\",\n",
    "                  labels={'date_of_birth': 'Author Birth Year', 'creation_date': 'Creation Year'},\n",
    "                  hover_data=['painter', 'title'])\n",
    "fig8.show()"
   ]
  },
  {
   "cell_type": "code",
   "execution_count": null,
   "metadata": {},
   "outputs": [],
   "source": [
    "# Select a very small subset for testing\n",
    "# Drop rows with missing data\n",
    "scatter_df = df.dropna(subset=['date_of_birth', 'creation_date'])\n",
    "df_subset = scatter_df[['creation_date', 'title']].head(100)\n",
    "fig3 = px.scatter(df_subset, \n",
    "                  x='creation_date', \n",
    "                  y='title',\n",
    "                  title='Test Plot of Paintings Creation Dates')\n",
    "fig3.show()"
   ]
  },
  {
   "cell_type": "code",
   "execution_count": null,
   "metadata": {},
   "outputs": [],
   "source": [
    "# Count paintings per location country\n",
    "paintings_per_location_country = df['location_country'].value_counts().reset_index()\n",
    "paintings_per_location_country.columns = ['Location Country', 'Number of Paintings']\n",
    "\n",
    "# Create treemap\n",
    "fig9 = px.treemap(paintings_per_location_country, \n",
    "                 path=['Location Country'], \n",
    "                 values='Number of Paintings',\n",
    "                 title='Distribution of Paintings by Location Country')\n",
    "fig9.show()"
   ]
  },
  {
   "cell_type": "code",
   "execution_count": null,
   "metadata": {},
   "outputs": [],
   "source": [
    "import hashlib\n",
    "\n",
    "def get_wikimedia_thumbnail(filename, width=200):\n",
    "    # Calculate the MD5 hash of the filename\n",
    "    md5_hash = hashlib.md5(filename.encode('utf-8')).hexdigest()\n",
    "    \n",
    "    # Construct the thumbnail URL\n",
    "    url = f\"https://upload.wikimedia.org/wikipedia/commons/thumb/{md5_hash[0]}/{md5_hash[:2]}/{filename}/{width}px-{filename}\"\n",
    "    \n",
    "    return url\n",
    "\n",
    "\n",
    "\n",
    "# Ensure there are no missing values in hover_data columns\n",
    "gallery = df[['creation_date', 'title', 'painter', 'location_name', 'filename']].dropna().head(10)\n",
    "gallery['url'] = gallery['filename'].apply(get_wikimedia_thumbnail)\n",
    "\n",
    "\n",
    "fig10 = px.scatter(gallery, \n",
    "                   x='creation_date', \n",
    "                   y='title',\n",
    "                   hover_data=['painter', 'location_name', 'url'],\n",
    "                   title='Interactive Gallery of Paintings',\n",
    "                   labels={'creation_date': 'Creation Date', 'title': 'Painting Title'},\n",
    "                   template='plotly_white')\n",
    "\n",
    "# Add images as hover\n",
    "fig10.update_traces(marker=dict(size=12,\n",
    "                                 color='LightSkyBlue'),\n",
    "                   selector=dict(mode='markers'))\n",
    "\n",
    "fig10.update_layout(\n",
    "    hovermode='closest',\n",
    "    hoverlabel=dict(\n",
    "        bgcolor=\"white\",\n",
    "        font_size=16,\n",
    "        font_family=\"Rockwell\"\n",
    "    )\n",
    ")\n",
    "\n",
    "# Update hovertemplate to include image\n",
    "fig10.update_traces(\n",
    "    hovertemplate=\"<b>%{y}</b><br><br>\" +\n",
    "                  \"Author: %{customdata[0]}<br>\" +\n",
    "                  \"Location: %{customdata[1]}<br>\" +\n",
    "                  \"<br><img src='%{customdata[2]}' width='150' height='150'><br>\" +\n",
    "                  \"<extra></extra>\"\n",
    ")\n",
    "\n",
    "fig10.show()"
   ]
  },
  {
   "cell_type": "code",
   "execution_count": null,
   "metadata": {},
   "outputs": [],
   "source": [
    "\n",
    "\n",
    "# Group by year and calculate proportions\n",
    "food_over_time = merged_df.groupby('creation_date')['contains_food'].agg(['count', 'sum']).reset_index()\n",
    "food_over_time['Proportion with Food'] = food_over_time['sum'] / food_over_time['count']\n",
    "\n",
    "# Create line chart\n",
    "fig2 = px.line(food_over_time, \n",
    "               x='creation_date', \n",
    "               y='Proportion with Food',\n",
    "               title='Proportion of Paintings Containing Food Over Time',\n",
    "               labels={'creation_date': 'Year', 'Proportion with Food': 'Proportion'},\n",
    "               markers=True)\n",
    "\n",
    "fig2.show()"
   ]
  },
  {
   "cell_type": "code",
   "execution_count": null,
   "metadata": {},
   "outputs": [],
   "source": [
    "\n",
    "\n",
    "# Expand food_words into separate rows\n",
    "df_food = df.explode('food_words').dropna(subset=['food_words'])\n",
    "\n",
    "# Count food items per author country\n",
    "food_country = df_food.groupby(['author_country', 'food_words']).size().reset_index(name='Count')\n",
    "\n",
    "# Create stacked bar chart\n",
    "fig3 = px.bar(food_country, \n",
    "              x='author_country', \n",
    "              y='Count', \n",
    "              color='food_words',\n",
    "              title='Distribution of Food Items by Author Country',\n",
    "              labels={'author_country': 'Author Country', 'food_words': 'Food Item', 'Count': 'Count'},\n",
    "              barmode='stack')\n",
    "\n",
    "fig3.show()"
   ]
  },
  {
   "cell_type": "code",
   "execution_count": null,
   "metadata": {},
   "outputs": [],
   "source": [
    "# Filter paintings that contain food\n",
    "df_food = df[df['contains_food'] == True]\n",
    "\n",
    "# Create heatmap\n",
    "fig4 = px.density_mapbox(df_food, \n",
    "                         lat='Latitude', \n",
    "                         lon='Longitude',\n",
    "                         radius=10,\n",
    "                         center=dict(lat=20, lon=0),\n",
    "                         zoom=1,\n",
    "                         mapbox_style='stamen-terrain',\n",
    "                         title='Geographical Heatmap of Food-Containing Paintings')\n",
    "\n",
    "fig4.show()\n"
   ]
  },
  {
   "cell_type": "code",
   "execution_count": null,
   "metadata": {},
   "outputs": [],
   "source": [
    "# Calculate number of food items per painting\n",
    "merged_df['num_food_items'] = merged_df['food_words'].apply(lambda x: len(x) if isinstance(x, list) else 0)\n",
    "\n",
    "# Group by author and calculate average\n",
    "avg_food_per_author = merged_df.groupby('painter')['num_food_items'].mean().reset_index()\n",
    "avg_food_per_author = avg_food_per_author.sort_values('num_food_items', ascending=False).head(10)\n",
    "\n",
    "# Create bar chart\n",
    "fig6 = px.bar(avg_food_per_author, \n",
    "              x='painter', \n",
    "              y='num_food_items',\n",
    "              title='Average Number of Food Items per Painting by Author',\n",
    "              labels={'painter': 'Author', 'num_food_items': 'Average Number of Food Items'},\n",
    "              color='num_food_items',\n",
    "              color_continuous_scale='Oranges')\n",
    "\n",
    "fig6.show()"
   ]
  },
  {
   "cell_type": "code",
   "execution_count": null,
   "metadata": {},
   "outputs": [],
   "source": [
    "# Prepare data\n",
    "df_food = df.explode('food_words').dropna(subset=['food_words'])\n",
    "food_location = df_food.groupby(['food_words', 'location_country']).size().reset_index(name='Count')\n",
    "\n",
    "# Select top 10 food items\n",
    "top_food = food_location['food_words'].value_counts().head(10).index\n",
    "food_location_top = food_location[food_location['food_words'].isin(top_food)]\n",
    "\n",
    "# Create bubble chart\n",
    "fig7 = px.scatter(food_location_top, \n",
    "                  x='location_country', \n",
    "                  y='food_words',\n",
    "                  size='Count',\n",
    "                  color='food_words',\n",
    "                  title='Correlation Between Specific Food Items and Painting Locations',\n",
    "                  labels={'location_country': 'Location Country', 'food_words': 'Food Item', 'Count': 'Number of Paintings'},\n",
    "                  hover_name='food_words',\n",
    "                  size_max=40)\n",
    "\n",
    "fig7.show()"
   ]
  },
  {
   "cell_type": "code",
   "execution_count": null,
   "metadata": {},
   "outputs": [],
   "source": [
    "# Prepare pivot table\n",
    "food_country_pivot = df_food.groupby(['author_country', 'food_words']).size().reset_index(name='Count')\n",
    "food_country_pivot = food_country_pivot.pivot(index='food_words', columns='author_country', values='Count').fillna(0)\n",
    "\n",
    "# Create heatmap\n",
    "fig8 = px.imshow(food_country_pivot,\n",
    "                labels=dict(x=\"Author Country\", y=\"Food Item\", color=\"Count\"),\n",
    "                title=\"Heatmap of Food Item Frequencies Across Author Countries\",\n",
    "                aspect=\"auto\",\n",
    "                color_continuous_scale='Viridis')\n",
    "\n",
    "fig8.show()"
   ]
  },
  {
   "cell_type": "code",
   "execution_count": null,
   "metadata": {},
   "outputs": [],
   "source": [
    "# Prepare data\n",
    "df['num_food_items'] = df['food_words'].apply(lambda x: len(x) if isinstance(x, list) else 0)\n",
    "\n",
    "# Create box plot\n",
    "fig9 = px.box(df, \n",
    "             x='gender', \n",
    "             y='num_food_items',\n",
    "             title='Number of Food Items in Paintings by Author Gender',\n",
    "             labels={'gender': 'Author Gender', 'num_food_items': 'Number of Food Items'},\n",
    "             color='gender')\n",
    "\n",
    "fig9.show()"
   ]
  },
  {
   "cell_type": "code",
   "execution_count": null,
   "metadata": {},
   "outputs": [],
   "source": [
    "# Prepare data\n",
    "df_food = df.explode('food_words').dropna(subset=['food_words']).head(30)\n",
    "\n",
    "# Define unique labels\n",
    "authors = df_food['painter'].unique().tolist()\n",
    "foods = df_food['food_words'].unique().tolist()\n",
    "locations = df_food['location_name'].unique().tolist()\n",
    "\n",
    "labels = authors + foods + locations\n",
    "\n",
    "# Create source and target indices\n",
    "df_food['source'] = df_food['painter'].apply(lambda x: labels.index(x))\n",
    "df_food['target_food'] = df_food['food_words'].apply(lambda x: labels.index(x) + len(authors))\n",
    "df_food['target_location'] = df_food['location_name'].apply(lambda x: labels.index(x) + len(authors) + len(foods))\n",
    "\n",
    "# Create links for authors to food\n",
    "links_auth_food = df_food.groupby(['source', 'target_food']).size().reset_index(name='value')\n",
    "\n",
    "# Create links for food to locations\n",
    "links_food_loc = df_food.groupby(['target_food', 'target_location']).size().reset_index(name='value')\n",
    "\n",
    "# Combine links\n",
    "links = pd.concat([\n",
    "    links_auth_food.rename(columns={'target_food': 'target'}),\n",
    "    links_food_loc.rename(columns={'target_location': 'target'})\n",
    "], ignore_index=True)\n",
    "\n",
    "# Create Sankey diagram\n",
    "fig10 = go.Figure(data=[go.Sankey(\n",
    "    node=dict(\n",
    "        pad=15,\n",
    "        thickness=20,\n",
    "        line=dict(color=\"black\", width=0.5),\n",
    "        label=labels,\n",
    "        color=\"blue\"\n",
    "    ),\n",
    "    link=dict(\n",
    "        source=links['source'],\n",
    "        target=links['target'],\n",
    "        value=links['value']\n",
    "    ))])\n",
    "\n",
    "fig10.update_layout(title_text=\"Sankey Diagram: Authors → Food Items → Locations\", font_size=10)\n",
    "fig10.show()"
   ]
  }
 ],
 "metadata": {
  "kernelspec": {
   "display_name": "base",
   "language": "python",
   "name": "python3"
  },
  "language_info": {
   "codemirror_mode": {
    "name": "ipython",
    "version": 3
   },
   "file_extension": ".py",
   "mimetype": "text/x-python",
   "name": "python",
   "nbconvert_exporter": "python",
   "pygments_lexer": "ipython3",
   "version": "3.12.4"
  }
 },
 "nbformat": 4,
 "nbformat_minor": 2
}
