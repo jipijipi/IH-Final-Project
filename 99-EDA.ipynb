{
 "cells": [
  {
   "cell_type": "markdown",
   "metadata": {},
   "source": [
    "# Food in Art"
   ]
  },
  {
   "cell_type": "markdown",
   "metadata": {},
   "source": [
    "### Angles\n",
    "\n",
    "- Proportion of food related items in museums\n",
    "- Proportion of food related artworks by epoch and country\n",
    "- Is food central topic\n",
    "- Network diagram linking culinary styles with corresponding art movements.\n",
    "- fruit, meal, dessert, etc\n",
    "- feasts, banquets, etc\n",
    "- food as a medium?\n",
    "- food symbolism?\n",
    "- **Analysis Angle:** Investigate how the introduction of new food items through trade influenced their depiction in art.\n",
    "    - **Visualization:** Maps showing trade routes alongside corresponding changes in food representation in art.\"\n",
    "- compare current food focus by country\n",
    "- Nutrional evolution\n",
    "- **Analysis Angle:** Explore how periods of famine or abundance influenced the portrayal of food in art.\n",
    "    - **Visualization:** Correlation charts linking historical events of scarcity or abundance with changes in food depiction.\"\n",
    "- Social classes?\n",
    "- Agriculture, markets?\n",
    "- **Analysis Angle:** Analyze the use of color in food-themed art and its psychological effects on viewers.\n",
    "- **Visualization:** Color wheel charts displaying dominant hues in various artworks.\"\n",
    "- **Analysis Angle:** Investigate how chefs create dishes inspired by artworks, merging visual art with gastronomy.\n",
    "- **Visualization:** Side-by-side images of artworks and the culinary dishes they inspired.\""
   ]
  }
 ],
 "metadata": {
  "kernelspec": {
   "display_name": "base",
   "language": "python",
   "name": "python3"
  },
  "language_info": {
   "codemirror_mode": {
    "name": "ipython",
    "version": 3
   },
   "file_extension": ".py",
   "mimetype": "text/x-python",
   "name": "python",
   "nbconvert_exporter": "python",
   "pygments_lexer": "ipython3",
   "version": "3.12.4"
  }
 },
 "nbformat": 4,
 "nbformat_minor": 2
}
